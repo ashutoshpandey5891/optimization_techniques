{
 "cells": [
  {
   "cell_type": "code",
   "execution_count": 27,
   "metadata": {},
   "outputs": [],
   "source": [
    "#neural network with variable learning rates\n",
    "from __future__ import division\n",
    "import numpy as np\n",
    "import pandas as pd\n",
    "import matplotlib.pyplot as plt\n",
    "\n",
    "%matplotlib inline"
   ]
  },
  {
   "cell_type": "code",
   "execution_count": 28,
   "metadata": {},
   "outputs": [
    {
     "name": "stdout",
     "output_type": "stream",
     "text": [
      "(42000, 785)\n"
     ]
    },
    {
     "data": {
      "text/html": [
       "<div>\n",
       "<style>\n",
       "    .dataframe thead tr:only-child th {\n",
       "        text-align: right;\n",
       "    }\n",
       "\n",
       "    .dataframe thead th {\n",
       "        text-align: left;\n",
       "    }\n",
       "\n",
       "    .dataframe tbody tr th {\n",
       "        vertical-align: top;\n",
       "    }\n",
       "</style>\n",
       "<table border=\"1\" class=\"dataframe\">\n",
       "  <thead>\n",
       "    <tr style=\"text-align: right;\">\n",
       "      <th></th>\n",
       "      <th>label</th>\n",
       "      <th>pixel0</th>\n",
       "      <th>pixel1</th>\n",
       "      <th>pixel2</th>\n",
       "      <th>pixel3</th>\n",
       "      <th>pixel4</th>\n",
       "      <th>pixel5</th>\n",
       "      <th>pixel6</th>\n",
       "      <th>pixel7</th>\n",
       "      <th>pixel8</th>\n",
       "      <th>...</th>\n",
       "      <th>pixel774</th>\n",
       "      <th>pixel775</th>\n",
       "      <th>pixel776</th>\n",
       "      <th>pixel777</th>\n",
       "      <th>pixel778</th>\n",
       "      <th>pixel779</th>\n",
       "      <th>pixel780</th>\n",
       "      <th>pixel781</th>\n",
       "      <th>pixel782</th>\n",
       "      <th>pixel783</th>\n",
       "    </tr>\n",
       "  </thead>\n",
       "  <tbody>\n",
       "    <tr>\n",
       "      <th>0</th>\n",
       "      <td>1.0</td>\n",
       "      <td>0.0</td>\n",
       "      <td>0.0</td>\n",
       "      <td>0.0</td>\n",
       "      <td>0.0</td>\n",
       "      <td>0.0</td>\n",
       "      <td>0.0</td>\n",
       "      <td>0.0</td>\n",
       "      <td>0.0</td>\n",
       "      <td>0.0</td>\n",
       "      <td>...</td>\n",
       "      <td>0.0</td>\n",
       "      <td>0.0</td>\n",
       "      <td>0.0</td>\n",
       "      <td>0.0</td>\n",
       "      <td>0.0</td>\n",
       "      <td>0.0</td>\n",
       "      <td>0.0</td>\n",
       "      <td>0.0</td>\n",
       "      <td>0.0</td>\n",
       "      <td>0.0</td>\n",
       "    </tr>\n",
       "    <tr>\n",
       "      <th>1</th>\n",
       "      <td>0.0</td>\n",
       "      <td>0.0</td>\n",
       "      <td>0.0</td>\n",
       "      <td>0.0</td>\n",
       "      <td>0.0</td>\n",
       "      <td>0.0</td>\n",
       "      <td>0.0</td>\n",
       "      <td>0.0</td>\n",
       "      <td>0.0</td>\n",
       "      <td>0.0</td>\n",
       "      <td>...</td>\n",
       "      <td>0.0</td>\n",
       "      <td>0.0</td>\n",
       "      <td>0.0</td>\n",
       "      <td>0.0</td>\n",
       "      <td>0.0</td>\n",
       "      <td>0.0</td>\n",
       "      <td>0.0</td>\n",
       "      <td>0.0</td>\n",
       "      <td>0.0</td>\n",
       "      <td>0.0</td>\n",
       "    </tr>\n",
       "    <tr>\n",
       "      <th>2</th>\n",
       "      <td>1.0</td>\n",
       "      <td>0.0</td>\n",
       "      <td>0.0</td>\n",
       "      <td>0.0</td>\n",
       "      <td>0.0</td>\n",
       "      <td>0.0</td>\n",
       "      <td>0.0</td>\n",
       "      <td>0.0</td>\n",
       "      <td>0.0</td>\n",
       "      <td>0.0</td>\n",
       "      <td>...</td>\n",
       "      <td>0.0</td>\n",
       "      <td>0.0</td>\n",
       "      <td>0.0</td>\n",
       "      <td>0.0</td>\n",
       "      <td>0.0</td>\n",
       "      <td>0.0</td>\n",
       "      <td>0.0</td>\n",
       "      <td>0.0</td>\n",
       "      <td>0.0</td>\n",
       "      <td>0.0</td>\n",
       "    </tr>\n",
       "    <tr>\n",
       "      <th>3</th>\n",
       "      <td>4.0</td>\n",
       "      <td>0.0</td>\n",
       "      <td>0.0</td>\n",
       "      <td>0.0</td>\n",
       "      <td>0.0</td>\n",
       "      <td>0.0</td>\n",
       "      <td>0.0</td>\n",
       "      <td>0.0</td>\n",
       "      <td>0.0</td>\n",
       "      <td>0.0</td>\n",
       "      <td>...</td>\n",
       "      <td>0.0</td>\n",
       "      <td>0.0</td>\n",
       "      <td>0.0</td>\n",
       "      <td>0.0</td>\n",
       "      <td>0.0</td>\n",
       "      <td>0.0</td>\n",
       "      <td>0.0</td>\n",
       "      <td>0.0</td>\n",
       "      <td>0.0</td>\n",
       "      <td>0.0</td>\n",
       "    </tr>\n",
       "    <tr>\n",
       "      <th>4</th>\n",
       "      <td>0.0</td>\n",
       "      <td>0.0</td>\n",
       "      <td>0.0</td>\n",
       "      <td>0.0</td>\n",
       "      <td>0.0</td>\n",
       "      <td>0.0</td>\n",
       "      <td>0.0</td>\n",
       "      <td>0.0</td>\n",
       "      <td>0.0</td>\n",
       "      <td>0.0</td>\n",
       "      <td>...</td>\n",
       "      <td>0.0</td>\n",
       "      <td>0.0</td>\n",
       "      <td>0.0</td>\n",
       "      <td>0.0</td>\n",
       "      <td>0.0</td>\n",
       "      <td>0.0</td>\n",
       "      <td>0.0</td>\n",
       "      <td>0.0</td>\n",
       "      <td>0.0</td>\n",
       "      <td>0.0</td>\n",
       "    </tr>\n",
       "  </tbody>\n",
       "</table>\n",
       "<p>5 rows × 785 columns</p>\n",
       "</div>"
      ],
      "text/plain": [
       "   label  pixel0  pixel1  pixel2  pixel3  pixel4  pixel5  pixel6  pixel7  \\\n",
       "0    1.0     0.0     0.0     0.0     0.0     0.0     0.0     0.0     0.0   \n",
       "1    0.0     0.0     0.0     0.0     0.0     0.0     0.0     0.0     0.0   \n",
       "2    1.0     0.0     0.0     0.0     0.0     0.0     0.0     0.0     0.0   \n",
       "3    4.0     0.0     0.0     0.0     0.0     0.0     0.0     0.0     0.0   \n",
       "4    0.0     0.0     0.0     0.0     0.0     0.0     0.0     0.0     0.0   \n",
       "\n",
       "   pixel8    ...     pixel774  pixel775  pixel776  pixel777  pixel778  \\\n",
       "0     0.0    ...          0.0       0.0       0.0       0.0       0.0   \n",
       "1     0.0    ...          0.0       0.0       0.0       0.0       0.0   \n",
       "2     0.0    ...          0.0       0.0       0.0       0.0       0.0   \n",
       "3     0.0    ...          0.0       0.0       0.0       0.0       0.0   \n",
       "4     0.0    ...          0.0       0.0       0.0       0.0       0.0   \n",
       "\n",
       "   pixel779  pixel780  pixel781  pixel782  pixel783  \n",
       "0       0.0       0.0       0.0       0.0       0.0  \n",
       "1       0.0       0.0       0.0       0.0       0.0  \n",
       "2       0.0       0.0       0.0       0.0       0.0  \n",
       "3       0.0       0.0       0.0       0.0       0.0  \n",
       "4       0.0       0.0       0.0       0.0       0.0  \n",
       "\n",
       "[5 rows x 785 columns]"
      ]
     },
     "execution_count": 28,
     "metadata": {},
     "output_type": "execute_result"
    }
   ],
   "source": [
    "#load the data\n",
    "dataset = pd.read_csv('train.csv',dtype = np.float32)\n",
    "print dataset.shape\n",
    "dataset.head()"
   ]
  },
  {
   "cell_type": "code",
   "execution_count": 29,
   "metadata": {},
   "outputs": [
    {
     "name": "stdout",
     "output_type": "stream",
     "text": [
      "(42000, 784) (42000, 1)\n"
     ]
    }
   ],
   "source": [
    "data = dataset.iloc[:,1:].values\n",
    "labels = dataset.iloc[:,0].values.reshape(-1,1)\n",
    "print data.shape,labels.shape"
   ]
  },
  {
   "cell_type": "code",
   "execution_count": 30,
   "metadata": {},
   "outputs": [
    {
     "name": "stdout",
     "output_type": "stream",
     "text": [
      "[ 7.]\n",
      "[ 9.]\n",
      "[ 4.]\n",
      "[ 7.]\n",
      "[ 7.]\n"
     ]
    },
    {
     "data": {
      "image/png": "[encoded data removed]",
      "text/plain": [
       "<matplotlib.figure.Figure at 0x7fea9bba9e10>"
      ]
     },
     "metadata": {},
     "output_type": "display_data"
    },
    {
     "data": {
      "image/png": "[encoded data removed]",
      "text/plain": [
       "<matplotlib.figure.Figure at 0x7fea9b8a1c10>"
      ]
     },
     "metadata": {},
     "output_type": "display_data"
    },
    {
     "data": {
      "image/png": "[encoded data removed]",
      "text/plain": [
       "<matplotlib.figure.Figure at 0x7fea9b68ddd0>"
      ]
     },
     "metadata": {},
     "output_type": "display_data"
    },
    {
     "data": {
      "image/png": "[encoded data removed]",
      "text/plain": [
       "<matplotlib.figure.Figure at 0x7fea9b87e910>"
      ]
     },
     "metadata": {},
     "output_type": "display_data"
    },
    {
     "data": {
      "image/png": "[encoded data removed]",
      "text/plain": [
       "<matplotlib.figure.Figure at 0x7feaa3e93090>"
      ]
     },
     "metadata": {},
     "output_type": "display_data"
    }
   ],
   "source": [
    "pixel_size = 28\n",
    "#visualizing random samples from data\n",
    "for i in np.random.randint(0,dataset.shape[0],5):\n",
    "    temp = data[i,:].reshape(pixel_size,pixel_size)\n",
    "    plt.figure()\n",
    "    plt.imshow(temp)\n",
    "    print labels[i,:]"
   ]
  },
  {
   "cell_type": "code",
   "execution_count": 31,
   "metadata": {},
   "outputs": [
    {
     "name": "stdout",
     "output_type": "stream",
     "text": [
      "(42000, 784) (42000, 10)\n"
     ]
    }
   ],
   "source": [
    "from sklearn.preprocessing import StandardScaler,OneHotEncoder\n",
    "scaler_x = StandardScaler()\n",
    "data = scaler_x.fit_transform(data)\n",
    "\n",
    "ohc  = OneHotEncoder()\n",
    "labels = ohc.fit_transform(labels).toarray()\n",
    "print data.shape,labels.shape"
   ]
  },
  {
   "cell_type": "code",
   "execution_count": 32,
   "metadata": {},
   "outputs": [
    {
     "name": "stdout",
     "output_type": "stream",
     "text": [
      "Training :  (37800, 784) (37800, 10)\n",
      "Testing :  (4200, 784) (4200, 10)\n"
     ]
    }
   ],
   "source": [
    "#splitting the data in train and test sets\n",
    "def split(data,labels,test_size = 0.1):\n",
    "    n = labels.shape[0]\n",
    "    perm = np.random.permutation(n)\n",
    "    data = data[perm,:]\n",
    "    labels = labels[perm,:]\n",
    "    train_x,test_x = data[:-int(test_size*n),:],data[-int(test_size*n):,:]\n",
    "    train_y,test_y = labels[:-int(test_size*n),:],labels[-int(test_size*n):,:]\n",
    "    return train_x,test_x,train_y,test_y\n",
    "\n",
    "train_x,test_x,train_y,test_y = split(data,labels)\n",
    "print \"Training : \",train_x.shape,train_y.shape\n",
    "print \"Testing : \",test_x.shape,test_y.shape"
   ]
  },
  {
   "cell_type": "code",
   "execution_count": 33,
   "metadata": {},
   "outputs": [],
   "source": [
    "def relu(x):\n",
    "    return np.maximum(x,0)\n",
    "\n",
    "def softmax(x):\n",
    "    return np.exp(-x)/(np.sum(np.exp(-x),axis=1,keepdims=True))\n",
    "\n",
    "def relu_grad(x):\n",
    "    temp = np.zeros(x.shape)\n",
    "    temp[x > 0] = 1\n",
    "    return temp\n",
    "\n",
    "def forward_prop(data,w1,b1,w2,b2):\n",
    "\n",
    "    z1 = np.dot(data,w1) + b1\n",
    "    a1 = relu(z1)\n",
    "    #print 'a1',a1[:10,:10]\n",
    "    z2 = np.dot(a1,w2) + b2\n",
    "    a2 = softmax(z2)\n",
    "    #print 'a2 : ',a2[:10,:]\n",
    "    return a2,z2,a1,z1\n",
    "\n",
    "def compute_loss(data,labels,weights,reg_param):\n",
    "    w1,b1,w2,b2 = weights[0],weights[1],weights[2],weights[3]\n",
    "    a2,z2,a1,z1 = forward_prop(data,w1,b1,w2,b2)\n",
    "    l = -np.sum(np.sum(labels*np.log(a2)))/labels.shape[0]\n",
    "    l += (reg_param/2.0)*(np.sum(np.sum(w1**2)) + np.sum(np.sum(w2**2)))/labels.shape[0]\n",
    "    return l,[z1,a1,z2,a2]\n",
    "\n",
    "def compute_gradients(x,y,logits,weights,reg_param):\n",
    "    z1,a1,z2,a2 = logits[0],logits[1],logits[2],logits[3]\n",
    "    w1,b1,w2,b2 = weights[0],weights[1],weights[2],weights[3]\n",
    "    \n",
    "    de = -(y-a2)/y.shape[0]\n",
    "    dw2 = np.dot(a1.T,de) + reg_param*w2/y.shape[0]\n",
    "    db2 = np.sum(de,axis=0,keepdims=True)\n",
    "    \n",
    "    de = np.dot(de,w2.T)*relu_grad(z1)\n",
    "    dw1 = np.dot(x.T,de) + reg_param*w1/y.shape[0]\n",
    "    db1 = np.sum(de,axis=0,keepdims=True)\n",
    "#     print 'w1',dw1[:10,:10]\n",
    "#     print 'b1',db1[:,:10]\n",
    "#     print 'w2',dw2[:10,:10]\n",
    "#     print 'b2',db2[:,:10]\n",
    "    return [dw1,db1,dw2,db2]\n",
    "\n",
    "def update_weights(weights,grads,learning_rate):\n",
    "    w1,b1,w2,b2 = weights[0],weights[1],weights[2],weights[3]\n",
    "    dw1,db1,dw2,db2 = grads[0],grads[1],grads[2],grads[3]\n",
    "    \n",
    "    w1 += learning_rate*dw1\n",
    "    b1 += learning_rate*db1\n",
    "    w2 += learning_rate*dw2\n",
    "    b2 += learning_rate*db2\n",
    "    \n",
    "    weights = [w1,b1,w2,b2]\n",
    "    return weights\n",
    "\n",
    "def update_weights_adagrad(weights,grads,learning_rate,caches,e = 1e-8):\n",
    "    w1,b1,w2,b2 = weights[0],weights[1],weights[2],weights[3]\n",
    "    dw1,db1,dw2,db2 = grads[0],grads[1],grads[2],grads[3]\n",
    "    cw1,cb1,cw2,cb2 = caches[0],caches[1],caches[2],caches[3]\n",
    "    \n",
    "    cw1 += dw1**2\n",
    "    cb1 += db1**2\n",
    "    cw2 += dw2**2\n",
    "    cb2 += db2**2\n",
    "    \n",
    "    w1 += learning_rate*dw1/np.sqrt(cw1 + e)\n",
    "    b1 += learning_rate*db1/np.sqrt(cb1 + e)\n",
    "    w2 += learning_rate*dw2/np.sqrt(cw2 + e)\n",
    "    b2 += learning_rate*db2/np.sqrt(cb2 + e)\n",
    "    \n",
    "    weights = [w1,b1,w2,b2]\n",
    "    caches = [cw1,cb1,cw2,cb2]\n",
    "    \n",
    "    return weights,caches\n",
    "\n",
    "def update_weights_rmsprop(weights,grads,learning_rate,caches,e=1e-8,decay=0.99):\n",
    "    w1,b1,w2,b2 = weights[0],weights[1],weights[2],weights[3]\n",
    "    dw1,db1,dw2,db2 = grads[0],grads[1],grads[2],grads[3]\n",
    "    cw1,cb1,cw2,cb2 = caches[0],caches[1],caches[2],caches[3]\n",
    "    \n",
    "    cw1 = decay*cw1 + (1-decay)*(dw1**2)\n",
    "    cb1 = decay*cb1 + (1-decay)*(db1**2)\n",
    "    cw2 = decay*cw2 + (1-decay)*(dw2**2)\n",
    "    cb2 = decay*cb2 + (1-decay)*(db2**2)\n",
    "    \n",
    "    w1 += learning_rate*dw1/np.sqrt(cw1 + e)\n",
    "    b1 += learning_rate*db1/np.sqrt(cb1 + e)\n",
    "    w2 += learning_rate*dw2/np.sqrt(cw2 + e)\n",
    "    b2 += learning_rate*db2/np.sqrt(cb2 + e)\n",
    "    \n",
    "    weights = [w1,b1,w2,b2]\n",
    "    caches = [cw1,cb1,cw2,cb2]\n",
    "    return weights,caches\n",
    "    \n",
    "def compute_accuracy(data,labels,weights):\n",
    "    w1,b1,w2,b2 = weights[0],weights[1],weights[2],weights[3]\n",
    "    predictions,_,_,_ = forward_prop(data,w1,b1,w2,b2)\n",
    "    val = np.sum(np.argmax(labels,axis=1) == np.argmax(predictions,axis=1))/labels.shape[0]\n",
    "    return val"
   ]
  },
  {
   "cell_type": "code",
   "execution_count": 39,
   "metadata": {},
   "outputs": [],
   "source": [
    "##default hyperparameters\n",
    "def_lr = 0.001\n",
    "def_n_iter = 1001\n",
    "def_batch_size = 256\n",
    "def_reg_param = 0.2"
   ]
  },
  {
   "cell_type": "code",
   "execution_count": 40,
   "metadata": {},
   "outputs": [
    {
     "name": "stdout",
     "output_type": "stream",
     "text": [
      "Training loss at step 0 is 2.59\n",
      "Test accuracy at step 0 is 10.38%\n",
      "\n",
      "\n",
      "Training loss at step 100 is 2.29\n",
      "Test accuracy at step 100 is 25.36%\n",
      "\n",
      "\n",
      "Training loss at step 200 is 2.02\n",
      "Test accuracy at step 200 is 45.74%\n",
      "\n",
      "\n",
      "Training loss at step 300 is 1.83\n",
      "Test accuracy at step 300 is 57.52%\n",
      "\n",
      "\n",
      "Training loss at step 400 is 1.66\n",
      "Test accuracy at step 400 is 63.86%\n",
      "\n",
      "\n",
      "Training loss at step 500 is 1.53\n",
      "Test accuracy at step 500 is 68.50%\n",
      "\n",
      "\n",
      "Training loss at step 600 is 1.44\n",
      "Test accuracy at step 600 is 72.19%\n",
      "\n",
      "\n",
      "Training loss at step 700 is 1.26\n",
      "Test accuracy at step 700 is 74.98%\n",
      "\n",
      "\n",
      "Training loss at step 800 is 1.17\n",
      "Test accuracy at step 800 is 77.10%\n",
      "\n",
      "\n",
      "Training loss at step 900 is 1.10\n",
      "Test accuracy at step 900 is 78.38%\n",
      "\n",
      "\n",
      "Training loss at step 1000 is 1.10\n",
      "Test accuracy at step 1000 is 79.52%\n",
      "\n",
      "\n"
     ]
    },
    {
     "data": {
      "text/plain": [
       "<matplotlib.legend.Legend at 0x7feaa3d68750>"
      ]
     },
     "execution_count": 40,
     "metadata": {},
     "output_type": "execute_result"
    },
    {
     "data": {
      "image/png": "[encoded data removed]",
      "text/plain": [
       "<matplotlib.figure.Figure at 0x7feaabc50690>"
      ]
     },
     "metadata": {},
     "output_type": "display_data"
    },
    {
     "data": {
      "image/png": "[encoded data removed]",
      "text/plain": [
       "<matplotlib.figure.Figure at 0x7fea9b998910>"
      ]
     },
     "metadata": {},
     "output_type": "display_data"
    }
   ],
   "source": [
    "#hyperparamters\n",
    "n,m = train_x.shape\n",
    "A = 0.005\n",
    "k_lr = 0.001\n",
    "learning_rate = def_lr\n",
    "reg_param = def_reg_param\n",
    "nh1 = 300\n",
    "p = train_y.shape[1]\n",
    "n_iter = def_n_iter\n",
    "batch_size = def_batch_size\n",
    "print_period = 100\n",
    "\n",
    "#weights \n",
    "w1 = np.random.randn(m,nh1)/28\n",
    "b1 = np.zeros((1,nh1))\n",
    "w2 = np.random.randn(nh1,p)/np.sqrt(nh1)\n",
    "b2 = np.zeros((1,p))\n",
    "weights = [w1,b1,w2,b2]\n",
    "\n",
    "#caches for adagrad model\n",
    "cw1 = np.zeros(w1.shape)\n",
    "cb1 = np.zeros(b1.shape)\n",
    "cw2 = np.zeros(w2.shape)\n",
    "cb2 = np.zeros(b2.shape)\n",
    "\n",
    "#training the model\n",
    "train_loss_1 = []\n",
    "test_errs = []\n",
    "train_errs = []\n",
    "\n",
    "for step in range(n_iter):\n",
    "    k = (step*batch_size) % (n - batch_size)\n",
    "    batch_x = train_x[k:(k+batch_size)]\n",
    "    batch_y = train_y[k:(k+batch_size)]\n",
    "    \n",
    "    l,logits = compute_loss(batch_x,batch_y,weights,reg_param)\n",
    "    grads = compute_gradients(batch_x,batch_y,logits,weights,reg_param)\n",
    "    weights = update_weights(weights,grads,learning_rate)\n",
    "    \n",
    "    \n",
    "    if step%print_period ==0:\n",
    "        #learning_rate = A*np.exp(-k_lr*step)\n",
    "        #print \"learning rate : \",learning_rate\n",
    "        train_loss_1.append(l)\n",
    "        print \"Training loss at step %d is %.2f\" %(step,l)\n",
    "        train_err =1.0 - compute_accuracy(batch_x,batch_y,weights)\n",
    "        test_err =1.0 - compute_accuracy(test_x,test_y,weights)\n",
    "        #print \"Train accuracy at step %d is %.2f%%\"  %(step,100.0*train_acc)\n",
    "        print \"Test accuracy at step %d is %.2f%%\" %(step,100.0*(1.0-test_err))\n",
    "        print '\\n'\n",
    "        train_errs.append(train_err)\n",
    "        test_errs.append(test_err)\n",
    "        #update the value of learning rate\n",
    "        \n",
    "\n",
    "plt.plot(np.arange(0,n_iter,100),train_loss_1,label = 'Training loss')\n",
    "plt.xlabel('Number of iterations')\n",
    "plt.ylabel('Loss')\n",
    "plt.legend()\n",
    "\n",
    "plt.figure()\n",
    "plt.plot(np.arange(0,n_iter,100),train_errs,label = 'Training')\n",
    "plt.plot(np.arange(0,n_iter,100),test_errs,label = 'Test')\n",
    "plt.ylim(0,1)\n",
    "plt.xlabel('Number of iterations')\n",
    "plt.ylabel('Error rate')\n",
    "plt.legend()"
   ]
  },
  {
   "cell_type": "code",
   "execution_count": 41,
   "metadata": {},
   "outputs": [
    {
     "name": "stdout",
     "output_type": "stream",
     "text": [
      "Training loss at step 0 is 2.51\n",
      "Test accuracy at step 0 is 38.26%\n",
      "\n",
      "\n",
      "Training loss at step 100 is 0.56\n",
      "Test accuracy at step 100 is 89.12%\n",
      "\n",
      "\n",
      "Training loss at step 200 is 0.57\n",
      "Test accuracy at step 200 is 90.64%\n",
      "\n",
      "\n",
      "Training loss at step 300 is 0.50\n",
      "Test accuracy at step 300 is 91.76%\n",
      "\n",
      "\n",
      "Training loss at step 400 is 0.48\n",
      "Test accuracy at step 400 is 92.29%\n",
      "\n",
      "\n",
      "Training loss at step 500 is 0.48\n",
      "Test accuracy at step 500 is 92.79%\n",
      "\n",
      "\n",
      "Training loss at step 600 is 0.47\n",
      "Test accuracy at step 600 is 93.02%\n",
      "\n",
      "\n",
      "Training loss at step 700 is 0.40\n",
      "Test accuracy at step 700 is 93.38%\n",
      "\n",
      "\n",
      "Training loss at step 800 is 0.45\n",
      "Test accuracy at step 800 is 93.60%\n",
      "\n",
      "\n",
      "Training loss at step 900 is 0.43\n",
      "Test accuracy at step 900 is 93.67%\n",
      "\n",
      "\n",
      "Training loss at step 1000 is 0.46\n",
      "Test accuracy at step 1000 is 93.79%\n",
      "\n",
      "\n"
     ]
    },
    {
     "data": {
      "text/plain": [
       "<matplotlib.legend.Legend at 0x7feaa3e81ad0>"
      ]
     },
     "execution_count": 41,
     "metadata": {},
     "output_type": "execute_result"
    },
    {
     "data": {
      "image/png": "[encoded data removed]",
      "text/plain": [
       "<matplotlib.figure.Figure at 0x7feaa3dfd090>"
      ]
     },
     "metadata": {},
     "output_type": "display_data"
    },
    {
     "data": {
      "image/png": "[encoded data removed]",
      "text/plain": [
       "<matplotlib.figure.Figure at 0x7feac408aa90>"
      ]
     },
     "metadata": {},
     "output_type": "display_data"
    }
   ],
   "source": [
    "##training with AdaGrad\n",
    "\n",
    "#hyperparamters\n",
    "n,m = train_x.shape\n",
    "A = 0.002\n",
    "k_lr = 0.001\n",
    "learning_rate = def_lr\n",
    "reg_param = def_reg_param\n",
    "nh1 = 300\n",
    "p = train_y.shape[1]\n",
    "n_iter = def_n_iter\n",
    "batch_size = def_batch_size\n",
    "print_period = 100\n",
    "\n",
    "#weights \n",
    "w1 = np.random.randn(m,nh1)/28\n",
    "b1 = np.zeros((1,nh1))\n",
    "w2 = np.random.randn(nh1,p)/np.sqrt(nh1)\n",
    "b2 = np.zeros((1,p))\n",
    "weights = [w1,b1,w2,b2]\n",
    "\n",
    "#caches for adagrad model\n",
    "cw1 = 0\n",
    "cb1 = 0\n",
    "cw2 = 0\n",
    "cb2 = 0\n",
    "\n",
    "caches = [cw1,cb1,cw2,cb2]\n",
    "#training the model\n",
    "train_loss_ada = []\n",
    "test_errs = []\n",
    "train_errs = []\n",
    "\n",
    "for step in range(n_iter):\n",
    "    k = (step*batch_size) % (n - batch_size)\n",
    "    batch_x = train_x[k:(k+batch_size)]\n",
    "    batch_y = train_y[k:(k+batch_size)]\n",
    "    \n",
    "    l,logits = compute_loss(batch_x,batch_y,weights,reg_param)\n",
    "    grads = compute_gradients(batch_x,batch_y,logits,weights,reg_param)\n",
    "    weights,caches = update_weights_adagrad(weights,grads,learning_rate,caches)\n",
    "    \n",
    "    \n",
    "    if step%print_period ==0:\n",
    "        #learning_rate = A*np.exp(-k_lr*step*2)\n",
    "        #print \"learning rate : \",learning_rate\n",
    "        train_loss_ada.append(l)\n",
    "        print \"Training loss at step %d is %.2f\" %(step,l)\n",
    "        train_err =1.0 - compute_accuracy(batch_x,batch_y,weights)\n",
    "        test_err =1.0 - compute_accuracy(test_x,test_y,weights)\n",
    "        #print \"Train accuracy at step %d is %.2f%%\"  %(step,100.0*train_acc)\n",
    "        print \"Test accuracy at step %d is %.2f%%\" %(step,100.0*(1.0-test_err))\n",
    "        print '\\n'\n",
    "        train_errs.append(train_err)\n",
    "        test_errs.append(test_err)\n",
    "        #update the value of learning rate\n",
    "        \n",
    "\n",
    "plt.plot(np.arange(0,n_iter,100),train_loss_ada,label = 'Training loss')\n",
    "plt.xlabel('Number of iterations')\n",
    "plt.ylabel('Loss')\n",
    "plt.legend()\n",
    "\n",
    "plt.figure()\n",
    "plt.plot(np.arange(0,n_iter,100),train_errs,label = 'Training')\n",
    "plt.plot(np.arange(0,n_iter,100),test_errs,label = 'Test')\n",
    "plt.ylim(0,1)\n",
    "plt.xlabel('Number of iterations')\n",
    "plt.ylabel('Error rate')\n",
    "plt.legend()"
   ]
  },
  {
   "cell_type": "code",
   "execution_count": 42,
   "metadata": {},
   "outputs": [
    {
     "name": "stdout",
     "output_type": "stream",
     "text": [
      "Training loss at step 0 is 2.58\n",
      "Test accuracy at step 0 is 15.38%\n",
      "\n",
      "\n",
      "Training loss at step 100 is 2.05\n",
      "Test accuracy at step 100 is 39.38%\n",
      "\n",
      "\n",
      "Training loss at step 200 is 1.63\n",
      "Test accuracy at step 200 is 59.50%\n",
      "\n",
      "\n",
      "Training loss at step 300 is 1.32\n",
      "Test accuracy at step 300 is 73.26%\n",
      "\n",
      "\n",
      "Training loss at step 400 is 0.96\n",
      "Test accuracy at step 400 is 81.67%\n",
      "\n",
      "\n",
      "Training loss at step 500 is 0.78\n",
      "Test accuracy at step 500 is 85.86%\n",
      "\n",
      "\n",
      "Training loss at step 600 is 0.64\n",
      "Test accuracy at step 600 is 88.45%\n",
      "\n",
      "\n",
      "Training loss at step 700 is 0.45\n",
      "Test accuracy at step 700 is 90.57%\n",
      "\n",
      "\n",
      "Training loss at step 800 is 0.44\n",
      "Test accuracy at step 800 is 91.76%\n",
      "\n",
      "\n",
      "Training loss at step 900 is 0.35\n",
      "Test accuracy at step 900 is 92.98%\n",
      "\n",
      "\n",
      "Training loss at step 1000 is 0.32\n",
      "Test accuracy at step 1000 is 94.19%\n",
      "\n",
      "\n"
     ]
    },
    {
     "data": {
      "text/plain": [
       "<matplotlib.legend.Legend at 0x7fea9b89b590>"
      ]
     },
     "execution_count": 42,
     "metadata": {},
     "output_type": "execute_result"
    },
    {
     "data": {
      "image/png": "[encoded data removed]",
      "text/plain": [
       "<matplotlib.figure.Figure at 0x7fea9b929d50>"
      ]
     },
     "metadata": {},
     "output_type": "display_data"
    },
    {
     "data": {
      "image/png": "[encoded data removed]",
      "text/plain": [
       "<matplotlib.figure.Figure at 0x7fea9b9982d0>"
      ]
     },
     "metadata": {},
     "output_type": "display_data"
    }
   ],
   "source": [
    "##training with RMSProp\n",
    "\n",
    "#hyperparamters\n",
    "n,m = train_x.shape\n",
    "A = 0.002\n",
    "k_lr = 0.001\n",
    "learning_rate = def_lr\n",
    "reg_param = def_reg_param\n",
    "nh1 = 300\n",
    "p = train_y.shape[1]\n",
    "n_iter = def_n_iter\n",
    "batch_size = def_batch_size\n",
    "print_period = 100\n",
    "\n",
    "#weights \n",
    "w1 = np.random.randn(m,nh1)/28\n",
    "b1 = np.zeros((1,nh1))\n",
    "w2 = np.random.randn(nh1,p)/np.sqrt(nh1)\n",
    "b2 = np.zeros((1,p))\n",
    "weights = [w1,b1,w2,b2]\n",
    "\n",
    "#caches for rmsprop model\n",
    "cw1 = 1\n",
    "cb1 = 1\n",
    "cw2 = 1\n",
    "cb2 = 1\n",
    "\n",
    "caches = [cw1,cb1,cw2,cb2]\n",
    "#training the model\n",
    "train_loss_rms = []\n",
    "test_errs = []\n",
    "train_errs = []\n",
    "\n",
    "for step in range(n_iter):\n",
    "    k = (step*batch_size) % (n - batch_size)\n",
    "    batch_x = train_x[k:(k+batch_size)]\n",
    "    batch_y = train_y[k:(k+batch_size)]\n",
    "    \n",
    "    l,logits = compute_loss(batch_x,batch_y,weights,reg_param)\n",
    "    grads = compute_gradients(batch_x,batch_y,logits,weights,reg_param)\n",
    "    weights,caches = update_weights_rmsprop(weights,grads,learning_rate,caches)\n",
    "    \n",
    "    \n",
    "    if step%print_period ==0:\n",
    "        #learning_rate = A*np.exp(-k_lr*step*2)\n",
    "        #print \"learning rate : \",learning_rate\n",
    "        train_loss_rms.append(l)\n",
    "        print \"Training loss at step %d is %.2f\" %(step,l)\n",
    "        train_err =1.0 - compute_accuracy(batch_x,batch_y,weights)\n",
    "        test_err =1.0 - compute_accuracy(test_x,test_y,weights)\n",
    "        #print \"Train accuracy at step %d is %.2f%%\"  %(step,100.0*train_acc)\n",
    "        print \"Test accuracy at step %d is %.2f%%\" %(step,100.0*(1.0-test_err))\n",
    "        print '\\n'\n",
    "        train_errs.append(train_err)\n",
    "        test_errs.append(test_err)\n",
    "        #update the value of learning rate\n",
    "        \n",
    "\n",
    "plt.plot(np.arange(0,n_iter,100),train_loss_rms,label = 'Training loss')\n",
    "plt.xlabel('Number of iterations')\n",
    "plt.ylabel('Loss')\n",
    "plt.legend()\n",
    "\n",
    "plt.figure()\n",
    "plt.plot(np.arange(0,n_iter,100),train_errs,label = 'Training')\n",
    "plt.plot(np.arange(0,n_iter,100),test_errs,label = 'Test')\n",
    "plt.ylim(0,1)\n",
    "plt.xlabel('Number of iterations')\n",
    "plt.ylabel('Error rate')\n",
    "plt.legend()"
   ]
  },
  {
   "cell_type": "code",
   "execution_count": 44,
   "metadata": {},
   "outputs": [
    {
     "data": {
      "image/png": "[encoded data removed]",
      "text/plain": [
       "<matplotlib.figure.Figure at 0x7fea9bcc56d0>"
      ]
     },
     "metadata": {},
     "output_type": "display_data"
    }
   ],
   "source": [
    "plt.figure(figsize=(7,5))\n",
    "plt.plot(np.arange(0,n_iter,print_period),train_loss_1,label = 'Training loss')\n",
    "plt.plot(np.arange(0,n_iter,print_period),train_loss_ada,c = 'green',label = 'Training loss with AdaGrad')\n",
    "plt.plot(np.arange(0,n_iter,print_period),train_loss_rms,c = 'orange',label = 'Training loss with RMSProp')\n",
    "plt.xlabel('Number of iterations')\n",
    "plt.ylabel('Training Losses')\n",
    "plt.title('Comparison of different methods')\n",
    "plt.legend(loc = 'center left',bbox_to_anchor = (1.0,0.5))\n",
    "sr = 'learning rate  : {:.4f}'.format(def_lr)\n",
    "props = {'facecolor':'white'}\n",
    "plt.gcf().text(1.0,0.3,sr,style='italic',color = 'blue',fontsize = 12,bbox = props);"
   ]
  },
  {
   "cell_type": "code",
   "execution_count": null,
   "metadata": {},
   "outputs": [],
   "source": []
  }
 ],
 "metadata": {
  "kernelspec": {
   "display_name": "Python 2",
   "language": "python",
   "name": "python2"
  },
  "language_info": {
   "codemirror_mode": {
    "name": "ipython",
    "version": 2
   },
   "file_extension": ".py",
   "mimetype": "text/x-python",
   "name": "python",
   "nbconvert_exporter": "python",
   "pygments_lexer": "ipython2",
   "version": "2.7.14"
  }
 },
 "nbformat": 4,
 "nbformat_minor": 2
}
