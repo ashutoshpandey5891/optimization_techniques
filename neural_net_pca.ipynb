{
 "cells": [
  {
   "cell_type": "code",
   "execution_count": 1,
   "metadata": {},
   "outputs": [],
   "source": [
    "#digit recognition mnist dataset 2\n",
    "from __future__ import division\n",
    "import numpy as np\n",
    "import pandas as pd\n",
    "import matplotlib.pyplot as plt\n",
    "\n",
    "%matplotlib inline"
   ]
  },
  {
   "cell_type": "code",
   "execution_count": 2,
   "metadata": {},
   "outputs": [
    {
     "name": "stdout",
     "output_type": "stream",
     "text": [
      "(42000, 785)\n"
     ]
    },
    {
     "data": {
      "text/html": [
       "<div>\n",
       "<style>\n",
       "    .dataframe thead tr:only-child th {\n",
       "        text-align: right;\n",
       "    }\n",
       "\n",
       "    .dataframe thead th {\n",
       "        text-align: left;\n",
       "    }\n",
       "\n",
       "    .dataframe tbody tr th {\n",
       "        vertical-align: top;\n",
       "    }\n",
       "</style>\n",
       "<table border=\"1\" class=\"dataframe\">\n",
       "  <thead>\n",
       "    <tr style=\"text-align: right;\">\n",
       "      <th></th>\n",
       "      <th>label</th>\n",
       "      <th>pixel0</th>\n",
       "      <th>pixel1</th>\n",
       "      <th>pixel2</th>\n",
       "      <th>pixel3</th>\n",
       "      <th>pixel4</th>\n",
       "      <th>pixel5</th>\n",
       "      <th>pixel6</th>\n",
       "      <th>pixel7</th>\n",
       "      <th>pixel8</th>\n",
       "      <th>...</th>\n",
       "      <th>pixel774</th>\n",
       "      <th>pixel775</th>\n",
       "      <th>pixel776</th>\n",
       "      <th>pixel777</th>\n",
       "      <th>pixel778</th>\n",
       "      <th>pixel779</th>\n",
       "      <th>pixel780</th>\n",
       "      <th>pixel781</th>\n",
       "      <th>pixel782</th>\n",
       "      <th>pixel783</th>\n",
       "    </tr>\n",
       "  </thead>\n",
       "  <tbody>\n",
       "    <tr>\n",
       "      <th>0</th>\n",
       "      <td>1</td>\n",
       "      <td>0</td>\n",
       "      <td>0</td>\n",
       "      <td>0</td>\n",
       "      <td>0</td>\n",
       "      <td>0</td>\n",
       "      <td>0</td>\n",
       "      <td>0</td>\n",
       "      <td>0</td>\n",
       "      <td>0</td>\n",
       "      <td>...</td>\n",
       "      <td>0</td>\n",
       "      <td>0</td>\n",
       "      <td>0</td>\n",
       "      <td>0</td>\n",
       "      <td>0</td>\n",
       "      <td>0</td>\n",
       "      <td>0</td>\n",
       "      <td>0</td>\n",
       "      <td>0</td>\n",
       "      <td>0</td>\n",
       "    </tr>\n",
       "    <tr>\n",
       "      <th>1</th>\n",
       "      <td>0</td>\n",
       "      <td>0</td>\n",
       "      <td>0</td>\n",
       "      <td>0</td>\n",
       "      <td>0</td>\n",
       "      <td>0</td>\n",
       "      <td>0</td>\n",
       "      <td>0</td>\n",
       "      <td>0</td>\n",
       "      <td>0</td>\n",
       "      <td>...</td>\n",
       "      <td>0</td>\n",
       "      <td>0</td>\n",
       "      <td>0</td>\n",
       "      <td>0</td>\n",
       "      <td>0</td>\n",
       "      <td>0</td>\n",
       "      <td>0</td>\n",
       "      <td>0</td>\n",
       "      <td>0</td>\n",
       "      <td>0</td>\n",
       "    </tr>\n",
       "    <tr>\n",
       "      <th>2</th>\n",
       "      <td>1</td>\n",
       "      <td>0</td>\n",
       "      <td>0</td>\n",
       "      <td>0</td>\n",
       "      <td>0</td>\n",
       "      <td>0</td>\n",
       "      <td>0</td>\n",
       "      <td>0</td>\n",
       "      <td>0</td>\n",
       "      <td>0</td>\n",
       "      <td>...</td>\n",
       "      <td>0</td>\n",
       "      <td>0</td>\n",
       "      <td>0</td>\n",
       "      <td>0</td>\n",
       "      <td>0</td>\n",
       "      <td>0</td>\n",
       "      <td>0</td>\n",
       "      <td>0</td>\n",
       "      <td>0</td>\n",
       "      <td>0</td>\n",
       "    </tr>\n",
       "    <tr>\n",
       "      <th>3</th>\n",
       "      <td>4</td>\n",
       "      <td>0</td>\n",
       "      <td>0</td>\n",
       "      <td>0</td>\n",
       "      <td>0</td>\n",
       "      <td>0</td>\n",
       "      <td>0</td>\n",
       "      <td>0</td>\n",
       "      <td>0</td>\n",
       "      <td>0</td>\n",
       "      <td>...</td>\n",
       "      <td>0</td>\n",
       "      <td>0</td>\n",
       "      <td>0</td>\n",
       "      <td>0</td>\n",
       "      <td>0</td>\n",
       "      <td>0</td>\n",
       "      <td>0</td>\n",
       "      <td>0</td>\n",
       "      <td>0</td>\n",
       "      <td>0</td>\n",
       "    </tr>\n",
       "    <tr>\n",
       "      <th>4</th>\n",
       "      <td>0</td>\n",
       "      <td>0</td>\n",
       "      <td>0</td>\n",
       "      <td>0</td>\n",
       "      <td>0</td>\n",
       "      <td>0</td>\n",
       "      <td>0</td>\n",
       "      <td>0</td>\n",
       "      <td>0</td>\n",
       "      <td>0</td>\n",
       "      <td>...</td>\n",
       "      <td>0</td>\n",
       "      <td>0</td>\n",
       "      <td>0</td>\n",
       "      <td>0</td>\n",
       "      <td>0</td>\n",
       "      <td>0</td>\n",
       "      <td>0</td>\n",
       "      <td>0</td>\n",
       "      <td>0</td>\n",
       "      <td>0</td>\n",
       "    </tr>\n",
       "  </tbody>\n",
       "</table>\n",
       "<p>5 rows × 785 columns</p>\n",
       "</div>"
      ],
      "text/plain": [
       "   label  pixel0  pixel1  pixel2  pixel3  pixel4  pixel5  pixel6  pixel7  \\\n",
       "0      1       0       0       0       0       0       0       0       0   \n",
       "1      0       0       0       0       0       0       0       0       0   \n",
       "2      1       0       0       0       0       0       0       0       0   \n",
       "3      4       0       0       0       0       0       0       0       0   \n",
       "4      0       0       0       0       0       0       0       0       0   \n",
       "\n",
       "   pixel8    ...     pixel774  pixel775  pixel776  pixel777  pixel778  \\\n",
       "0       0    ...            0         0         0         0         0   \n",
       "1       0    ...            0         0         0         0         0   \n",
       "2       0    ...            0         0         0         0         0   \n",
       "3       0    ...            0         0         0         0         0   \n",
       "4       0    ...            0         0         0         0         0   \n",
       "\n",
       "   pixel779  pixel780  pixel781  pixel782  pixel783  \n",
       "0         0         0         0         0         0  \n",
       "1         0         0         0         0         0  \n",
       "2         0         0         0         0         0  \n",
       "3         0         0         0         0         0  \n",
       "4         0         0         0         0         0  \n",
       "\n",
       "[5 rows x 785 columns]"
      ]
     },
     "execution_count": 2,
     "metadata": {},
     "output_type": "execute_result"
    }
   ],
   "source": [
    "#load the data\n",
    "dataset = pd.read_csv('train.csv')\n",
    "print dataset.shape\n",
    "dataset.head()"
   ]
  },
  {
   "cell_type": "code",
   "execution_count": 3,
   "metadata": {},
   "outputs": [
    {
     "name": "stdout",
     "output_type": "stream",
     "text": [
      "(42000, 784) (42000, 1)\n"
     ]
    }
   ],
   "source": [
    "x = dataset.iloc[:,1:].values\n",
    "y = dataset.iloc[:,0].values.reshape(-1,1)\n",
    "print x.shape,y.shape"
   ]
  },
  {
   "cell_type": "code",
   "execution_count": 4,
   "metadata": {},
   "outputs": [
    {
     "name": "stdout",
     "output_type": "stream",
     "text": [
      "[7]\n",
      "[5]\n",
      "[6]\n",
      "[1]\n",
      "[7]\n"
     ]
    },
    {
     "data": {
      "image/png": "[encoded data removed]",
      "text/plain": [
       "<matplotlib.figure.Figure at 0x7fc207588410>"
      ]
     },
     "metadata": {},
     "output_type": "display_data"
    },
    {
     "data": {
      "image/png": "[encoded data removed]",
      "text/plain": [
       "<matplotlib.figure.Figure at 0x7fc206844c10>"
      ]
     },
     "metadata": {},
     "output_type": "display_data"
    },
    {
     "data": {
      "image/png": "[encoded data removed]",
      "text/plain": [
       "<matplotlib.figure.Figure at 0x7fc206ef0c50>"
      ]
     },
     "metadata": {},
     "output_type": "display_data"
    },
    {
     "data": {
      "image/png": "[encoded data removed]",
      "text/plain": [
       "<matplotlib.figure.Figure at 0x7fc206ebd050>"
      ]
     },
     "metadata": {},
     "output_type": "display_data"
    },
    {
     "data": {
      "image/png": "[encoded data removed]",
      "text/plain": [
       "<matplotlib.figure.Figure at 0x7fc206e8a790>"
      ]
     },
     "metadata": {},
     "output_type": "display_data"
    }
   ],
   "source": [
    "pixel_size = 28\n",
    "#data visualization\n",
    "for number in np.random.randint(0,y.shape[0],5):\n",
    "    temp = x[number,:].reshape(pixel_size,pixel_size)\n",
    "    print(y[number,:])\n",
    "    plt.figure()\n",
    "    plt.imshow(temp)"
   ]
  },
  {
   "cell_type": "code",
   "execution_count": 5,
   "metadata": {},
   "outputs": [
    {
     "data": {
      "text/plain": [
       "(42000, 300)"
      ]
     },
     "execution_count": 5,
     "metadata": {},
     "output_type": "execute_result"
    }
   ],
   "source": [
    "#PCA \n",
    "from sklearn.decomposition import PCA\n",
    "pca = PCA(n_components = 300)\n",
    "x = pca.fit_transform(x)\n",
    "x.shape"
   ]
  },
  {
   "cell_type": "code",
   "execution_count": 6,
   "metadata": {},
   "outputs": [
    {
     "name": "stdout",
     "output_type": "stream",
     "text": [
      "(42000, 300) (42000, 10)\n"
     ]
    }
   ],
   "source": [
    "#normalization\n",
    "mean_x = np.mean(x,axis=0,keepdims = True)\n",
    "sd_x = np.std(x,axis=0,keepdims=True)\n",
    "x = (x-mean_x)/sd_x\n",
    "#convert into one hot labels\n",
    "from sklearn.preprocessing import OneHotEncoder\n",
    "ohc = OneHotEncoder()\n",
    "one_hot_labels = ohc.fit_transform(y).toarray()\n",
    "print x.shape,one_hot_labels.shape"
   ]
  },
  {
   "cell_type": "code",
   "execution_count": 7,
   "metadata": {},
   "outputs": [
    {
     "name": "stdout",
     "output_type": "stream",
     "text": [
      "Training set :  (37800, 300) (37800, 10)\n",
      "Testing set :  (4200, 300) (4200, 10)\n"
     ]
    }
   ],
   "source": [
    "#split into trian and test\n",
    "from sklearn.model_selection import train_test_split\n",
    "train_x,test_x,train_y,test_y = train_test_split(x,one_hot_labels,test_size = 0.1)\n",
    "print \"Training set : \",train_x.shape,train_y.shape\n",
    "print \"Testing set : \",test_x.shape,test_y.shape"
   ]
  },
  {
   "cell_type": "code",
   "execution_count": 8,
   "metadata": {},
   "outputs": [],
   "source": [
    "#model\n",
    "def relu(x):\n",
    "    return np.maximum(x,0)\n",
    "\n",
    "def softmax(x):\n",
    "    return np.exp(-x)/np.sum(np.exp(-x),axis=1,keepdims=True)\n",
    "\n",
    "def predict(data,weights,n_layers):\n",
    "    logits = {'a0' : data}\n",
    "    ##forward propagation\n",
    "    for i in range(1,n_layers):\n",
    "        weight = weights[\"w\"+str(i)]\n",
    "        bias = weights[\"b\"+str(i)]\n",
    "        prev_a = logits['a'+str(i-1)]\n",
    "        z = np.dot(prev_a,weight) + bias\n",
    "        a = relu(z)\n",
    "        logits['z'+str(i)] = z\n",
    "        logits['a'+str(i)] = a\n",
    "    weight = weights['w'+str(n_layers)]\n",
    "    bias = weights['b'+str(n_layers)]\n",
    "    prev_a = logits['a'+str(n_layers-1)]\n",
    "    z = np.dot(prev_a,weight) + bias\n",
    "    a = softmax(z)\n",
    "    logits['z'+str(n_layers)] = z\n",
    "    logits['a'+str(n_layers)] = a\n",
    "    return logits\n",
    "\n",
    "def compute_loss(data,labels,weights,n_layers,reg_loss_param=0):\n",
    "    logits = predict(data,weights,n_layers)\n",
    "    a = logits['a'+str(n_layers)]\n",
    "    #computing categorical cross entropy loss\n",
    "    loss = -np.sum(np.sum(labels*np.log(a)))/labels.shape[0]\n",
    "    reg_loss = 0\n",
    "    for key,weight in weights.items():\n",
    "        if key.startswith('w'):\n",
    "            reg_loss += np.sum(np.sum(weight**2))\n",
    "    loss += reg_loss_param*(reg_loss/(2*labels.shape[0]))\n",
    "    return loss,logits\n",
    "     \n",
    "def compute_accuracy(data,labels,weights,n_layers):\n",
    "    logits = predict(data,weights,n_layers)\n",
    "    predictions = logits['a'+str(n_layers)]\n",
    "    val = np.sum(np.argmax(labels,axis=1) == np.argmax(predictions,axis=1))\n",
    "    return val/labels.shape[0]"
   ]
  },
  {
   "cell_type": "code",
   "execution_count": 9,
   "metadata": {},
   "outputs": [],
   "source": [
    "#backpropagation\n",
    "def relu_grad(x):\n",
    "    temp = np.zeros(x.shape)\n",
    "    temp[x > 0] = 1.0\n",
    "    return temp\n",
    "    \n",
    "def compute_gradients(logits,labels,weights,n_layers):\n",
    "    #computing and storing gradients\n",
    "    grads = {}\n",
    "    a = logits['a'+str(n_layers)]\n",
    "    a_prev = logits['a'+str(n_layers-1)]\n",
    "    de = (labels-a)/labels.shape[0]\n",
    "    dw = -(np.dot(a_prev.T,de))\n",
    "    db = -np.sum(de,axis=0,keepdims=True)\n",
    "    grads['dw'+str(n_layers)] = dw\n",
    "    grads['db'+str(n_layers)] = db\n",
    "    for i in np.arange((n_layers-1),0,-1):\n",
    "        z = logits['z'+str(i)]\n",
    "        a_prev = logits['a'+str(i-1)]\n",
    "        w_next = weights['w'+str(i+1)]\n",
    "        de = np.dot(de,w_next.T)*relu_grad(z)\n",
    "        dw = -np.dot(a_prev.T,de)\n",
    "        db = -np.sum(de,axis=0,keepdims=True)\n",
    "        grads['dw'+str(i)] = dw\n",
    "        grads['db'+str(i)] = db\n",
    "    return grads\n",
    "    \n",
    "    #updating weights\n",
    "def update_weights(grads,weights,n_layers,learning_rate,reg_loss_param=0):\n",
    "    for i in range(1,n_layers+1):\n",
    "        weights['w'+str(i)] += learning_rate*(grads['dw'+str(i)] +reg_loss_param*(weights['w'+str(i)]))\n",
    "        weights['b'+str(i)] += learning_rate*grads['db'+str(i)]\n",
    "    \n",
    "    return weights"
   ]
  },
  {
   "cell_type": "code",
   "execution_count": 10,
   "metadata": {},
   "outputs": [
    {
     "name": "stdout",
     "output_type": "stream",
     "text": [
      "Training loss at step 0 is 2.30\n",
      "Test accuracy at step 0 is 9.74%\n",
      "\n",
      "\n",
      "Training loss at step 100 is 2.30\n",
      "Test accuracy at step 100 is 28.02%\n",
      "\n",
      "\n",
      "Training loss at step 200 is 2.29\n",
      "Test accuracy at step 200 is 38.43%\n",
      "\n",
      "\n",
      "Training loss at step 300 is 2.27\n",
      "Test accuracy at step 300 is 48.83%\n",
      "\n",
      "\n",
      "Training loss at step 400 is 2.22\n",
      "Test accuracy at step 400 is 60.17%\n",
      "\n",
      "\n",
      "Training loss at step 500 is 2.14\n",
      "Test accuracy at step 500 is 70.69%\n",
      "\n",
      "\n",
      "Training loss at step 600 is 1.91\n",
      "Test accuracy at step 600 is 75.14%\n",
      "\n",
      "\n",
      "Training loss at step 700 is 1.43\n",
      "Test accuracy at step 700 is 79.36%\n",
      "\n",
      "\n",
      "Training loss at step 800 is 0.99\n",
      "Test accuracy at step 800 is 82.79%\n",
      "\n",
      "\n",
      "Training loss at step 900 is 0.65\n",
      "Test accuracy at step 900 is 86.43%\n",
      "\n",
      "\n",
      "Training loss at step 1000 is 0.52\n",
      "Test accuracy at step 1000 is 88.60%\n",
      "\n",
      "\n",
      "Training loss at step 1100 is 0.34\n",
      "Test accuracy at step 1100 is 89.17%\n",
      "\n",
      "\n",
      "Training loss at step 1200 is 0.29\n",
      "Test accuracy at step 1200 is 90.19%\n",
      "\n",
      "\n",
      "Training loss at step 1300 is 0.29\n",
      "Test accuracy at step 1300 is 90.52%\n",
      "\n",
      "\n",
      "Training loss at step 1400 is 0.28\n",
      "Test accuracy at step 1400 is 91.14%\n",
      "\n",
      "\n",
      "Training loss at step 1500 is 0.30\n",
      "Test accuracy at step 1500 is 91.45%\n",
      "\n",
      "\n"
     ]
    },
    {
     "data": {
      "text/plain": [
       "<matplotlib.legend.Legend at 0x7fc206d79590>"
      ]
     },
     "execution_count": 10,
     "metadata": {},
     "output_type": "execute_result"
    },
    {
     "data": {
      "image/png": "[encoded data removed]",
      "text/plain": [
       "<matplotlib.figure.Figure at 0x7fc1e4311250>"
      ]
     },
     "metadata": {},
     "output_type": "display_data"
    },
    {
     "data": {
      "image/png": "[encoded data removed]",
      "text/plain": [
       "<matplotlib.figure.Figure at 0x7fc206d43450>"
      ]
     },
     "metadata": {},
     "output_type": "display_data"
    }
   ],
   "source": [
    "n,m = train_x.shape\n",
    "#hyperparameters\n",
    "n_layers = 2\n",
    "batch_size = 128\n",
    "n_h = [m,256,10]\n",
    "learning_rate = 0.02\n",
    "n_iter = 1501\n",
    "reg_loss_param = 0.05\n",
    "#initializing the weights\n",
    "weights = {}\n",
    "for i in range(1,(n_layers+1)):\n",
    "    weights['w'+str(i)] = np.random.randn(n_h[i-1],n_h[i])*0.005\n",
    "    weights['b'+str(i)] = np.zeros((1,n_h[i]))\n",
    "\n",
    "    \n",
    "train_loss = []\n",
    "train_errs = []\n",
    "test_errs = []\n",
    "#training the model\n",
    "for step in range(n_iter):\n",
    "    k = (step*batch_size) % (n-batch_size)\n",
    "    batch_x = train_x[k:(k+batch_size),:]\n",
    "    batch_y = train_y[k:(k+batch_size),:]\n",
    "    \n",
    "    l,logits = compute_loss(batch_x,batch_y,weights,n_layers,reg_loss_param)\n",
    "    grads = compute_gradients(logits,batch_y,weights,n_layers)\n",
    "    \n",
    "    weights = update_weights(grads,weights,n_layers,learning_rate,reg_loss_param)\n",
    "    train_loss.append(l)\n",
    "    if step%100 ==0:\n",
    "        print \"Training loss at step %d is %.2f\" %(step,l)\n",
    "        train_err =1.0 - compute_accuracy(batch_x,batch_y,weights,n_layers)\n",
    "        test_err =1.0 - compute_accuracy(test_x,test_y,weights,n_layers)\n",
    "        #print \"Train accuracy at step %d is %.2f%%\"  %(step,100.0*train_acc)\n",
    "        print \"Test accuracy at step %d is %.2f%%\" %(step,100.0*(1.0-test_err))\n",
    "        print '\\n'\n",
    "        train_errs.append(train_err)\n",
    "        test_errs.append(test_err)\n",
    "\n",
    "plt.plot(range(n_iter),train_loss,label = 'Training loss')\n",
    "plt.xlabel('Number of iterations')\n",
    "plt.ylabel('Loss')\n",
    "plt.legend()\n",
    "\n",
    "plt.figure()\n",
    "plt.plot(np.arange(0,n_iter,100),train_errs,label = 'Training')\n",
    "plt.plot(np.arange(0,n_iter,100),test_errs,label = 'Test')\n",
    "plt.xlabel('Number of iterations')\n",
    "plt.ylabel('Error rate')\n",
    "plt.legend()"
   ]
  },
  {
   "cell_type": "code",
   "execution_count": 11,
   "metadata": {},
   "outputs": [
    {
     "data": {
      "text/plain": [
       "0.91452380952380952"
      ]
     },
     "execution_count": 11,
     "metadata": {},
     "output_type": "execute_result"
    }
   ],
   "source": [
    "compute_accuracy(test_x,test_y,weights,n_layers)"
   ]
  },
  {
   "cell_type": "code",
   "execution_count": null,
   "metadata": {},
   "outputs": [],
   "source": []
  }
 ],
 "metadata": {
  "kernelspec": {
   "display_name": "Python 2",
   "language": "python",
   "name": "python2"
  },
  "language_info": {
   "codemirror_mode": {
    "name": "ipython",
    "version": 2
   },
   "file_extension": ".py",
   "mimetype": "text/x-python",
   "name": "python",
   "nbconvert_exporter": "python",
   "pygments_lexer": "ipython2",
   "version": "2.7.14"
  }
 },
 "nbformat": 4,
 "nbformat_minor": 2
}
