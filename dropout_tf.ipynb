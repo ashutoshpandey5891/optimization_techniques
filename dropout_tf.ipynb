{
 "cells": [
  {
   "cell_type": "code",
   "execution_count": 1,
   "metadata": {},
   "outputs": [],
   "source": [
    "import numpy as np\n",
    "import pandas as pd\n",
    "import matplotlib.pyplot as plt\n",
    "\n",
    "from util import *\n",
    "from dropout_tf2 import ANN\n",
    "import tensorflow as tf\n",
    "from sklearn.utils import shuffle\n",
    "\n",
    "%matplotlib inline\n",
    "%load_ext autoreload\n",
    "%autoreload 2"
   ]
  },
  {
   "cell_type": "code",
   "execution_count": 2,
   "metadata": {},
   "outputs": [
    {
     "name": "stdout",
     "output_type": "stream",
     "text": [
      "(42000, 784) (42000, 10)\n"
     ]
    }
   ],
   "source": [
    "X,Y = get_normalized_data()\n",
    "print X.shape,Y.shape"
   ]
  },
  {
   "cell_type": "code",
   "execution_count": 3,
   "metadata": {},
   "outputs": [],
   "source": [
    "hidden_layer_sizes = [500,300]\n",
    "keep_probs = [0.8,0.5,0.5]\n",
    "ann = ANN(hidden_layer_sizes,keep_probs)"
   ]
  },
  {
   "cell_type": "code",
   "execution_count": 4,
   "metadata": {},
   "outputs": [
    {
     "name": "stdout",
     "output_type": "stream",
     "text": [
      "Epoch : 0,Batch : 0,Training loss : 27.9941,Valid loss : 15.7523,valid err : 0.9000\n",
      "Epoch : 0,Batch : 50,Training loss : 12.7060,Valid loss : 5.0756,valid err : 0.8910\n",
      "Epoch : 0,Batch : 100,Training loss : 2.6632,Valid loss : 2.4992,valid err : 0.8640\n",
      "Epoch : 0,Batch : 150,Training loss : 1.8936,Valid loss : 1.8972,valid err : 0.5350\n",
      "Epoch : 0,Batch : 200,Training loss : 0.6159,Valid loss : 0.5327,valid err : 0.1330\n",
      "Epoch : 1,Batch : 0,Training loss : 0.5114,Valid loss : 0.4851,valid err : 0.1390\n",
      "Epoch : 1,Batch : 50,Training loss : 0.5839,Valid loss : 0.2929,valid err : 0.0780\n",
      "Epoch : 1,Batch : 100,Training loss : 0.3129,Valid loss : 0.2542,valid err : 0.0710\n",
      "Epoch : 1,Batch : 150,Training loss : 0.1430,Valid loss : 0.2183,valid err : 0.0690\n",
      "Epoch : 1,Batch : 200,Training loss : 0.2411,Valid loss : 0.2069,valid err : 0.0560\n",
      "Epoch : 2,Batch : 0,Training loss : 0.1874,Valid loss : 0.2087,valid err : 0.0570\n",
      "Epoch : 2,Batch : 50,Training loss : 0.3031,Valid loss : 0.1739,valid err : 0.0560\n",
      "Epoch : 2,Batch : 100,Training loss : 0.2319,Valid loss : 0.1746,valid err : 0.0590\n",
      "Epoch : 2,Batch : 150,Training loss : 0.1042,Valid loss : 0.1571,valid err : 0.0460\n",
      "Epoch : 2,Batch : 200,Training loss : 0.1761,Valid loss : 0.1503,valid err : 0.0450\n",
      "Epoch : 3,Batch : 0,Training loss : 0.1600,Valid loss : 0.1456,valid err : 0.0390\n",
      "Epoch : 3,Batch : 50,Training loss : 0.2567,Valid loss : 0.1482,valid err : 0.0440\n",
      "Epoch : 3,Batch : 100,Training loss : 0.1574,Valid loss : 0.1452,valid err : 0.0420\n",
      "Epoch : 3,Batch : 150,Training loss : 0.1172,Valid loss : 0.1503,valid err : 0.0370\n",
      "Epoch : 3,Batch : 200,Training loss : 0.2153,Valid loss : 0.1711,valid err : 0.0450\n",
      "Epoch : 4,Batch : 0,Training loss : 0.1114,Valid loss : 0.1636,valid err : 0.0410\n",
      "Epoch : 4,Batch : 50,Training loss : 0.2347,Valid loss : 0.1418,valid err : 0.0390\n",
      "Epoch : 4,Batch : 100,Training loss : 0.1440,Valid loss : 0.1342,valid err : 0.0340\n",
      "Epoch : 4,Batch : 150,Training loss : 0.1207,Valid loss : 0.1338,valid err : 0.0370\n",
      "Epoch : 4,Batch : 200,Training loss : 0.2372,Valid loss : 0.1461,valid err : 0.0380\n"
     ]
    },
    {
     "data": {
      "image/png": "[encoded data removed]",
      "text/plain": [
       "<matplotlib.figure.Figure at 0x7f02efa55c50>"
      ]
     },
     "metadata": {},
     "output_type": "display_data"
    }
   ],
   "source": [
    "ann.fit(X,Y,batch_size=200,epochs=5,lr=0.0003,mu=0.9,decay =0.9)"
   ]
  },
  {
   "cell_type": "code",
   "execution_count": null,
   "metadata": {},
   "outputs": [],
   "source": []
  }
 ],
 "metadata": {
  "kernelspec": {
   "display_name": "Python 2",
   "language": "python",
   "name": "python2"
  },
  "language_info": {
   "codemirror_mode": {
    "name": "ipython",
    "version": 2
   },
   "file_extension": ".py",
   "mimetype": "text/x-python",
   "name": "python",
   "nbconvert_exporter": "python",
   "pygments_lexer": "ipython2",
   "version": "2.7.14"
  }
 },
 "nbformat": 4,
 "nbformat_minor": 2
}
