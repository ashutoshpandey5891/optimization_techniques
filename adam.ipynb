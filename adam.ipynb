{
 "cells": [
  {
   "cell_type": "code",
   "execution_count": 1,
   "metadata": {},
   "outputs": [],
   "source": [
    "#neural network with adam and rmsprop with momentum\n",
    "from __future__ import division\n",
    "import numpy as np\n",
    "import pandas as pd\n",
    "import matplotlib.pyplot as plt\n",
    "\n",
    "%matplotlib inline"
   ]
  },
  {
   "cell_type": "code",
   "execution_count": 2,
   "metadata": {},
   "outputs": [
    {
     "name": "stdout",
     "output_type": "stream",
     "text": [
      "(42000, 785)\n"
     ]
    },
    {
     "data": {
      "text/html": [
       "<div>\n",
       "<style>\n",
       "    .dataframe thead tr:only-child th {\n",
       "        text-align: right;\n",
       "    }\n",
       "\n",
       "    .dataframe thead th {\n",
       "        text-align: left;\n",
       "    }\n",
       "\n",
       "    .dataframe tbody tr th {\n",
       "        vertical-align: top;\n",
       "    }\n",
       "</style>\n",
       "<table border=\"1\" class=\"dataframe\">\n",
       "  <thead>\n",
       "    <tr style=\"text-align: right;\">\n",
       "      <th></th>\n",
       "      <th>label</th>\n",
       "      <th>pixel0</th>\n",
       "      <th>pixel1</th>\n",
       "      <th>pixel2</th>\n",
       "      <th>pixel3</th>\n",
       "      <th>pixel4</th>\n",
       "      <th>pixel5</th>\n",
       "      <th>pixel6</th>\n",
       "      <th>pixel7</th>\n",
       "      <th>pixel8</th>\n",
       "      <th>...</th>\n",
       "      <th>pixel774</th>\n",
       "      <th>pixel775</th>\n",
       "      <th>pixel776</th>\n",
       "      <th>pixel777</th>\n",
       "      <th>pixel778</th>\n",
       "      <th>pixel779</th>\n",
       "      <th>pixel780</th>\n",
       "      <th>pixel781</th>\n",
       "      <th>pixel782</th>\n",
       "      <th>pixel783</th>\n",
       "    </tr>\n",
       "  </thead>\n",
       "  <tbody>\n",
       "    <tr>\n",
       "      <th>0</th>\n",
       "      <td>1.0</td>\n",
       "      <td>0.0</td>\n",
       "      <td>0.0</td>\n",
       "      <td>0.0</td>\n",
       "      <td>0.0</td>\n",
       "      <td>0.0</td>\n",
       "      <td>0.0</td>\n",
       "      <td>0.0</td>\n",
       "      <td>0.0</td>\n",
       "      <td>0.0</td>\n",
       "      <td>...</td>\n",
       "      <td>0.0</td>\n",
       "      <td>0.0</td>\n",
       "      <td>0.0</td>\n",
       "      <td>0.0</td>\n",
       "      <td>0.0</td>\n",
       "      <td>0.0</td>\n",
       "      <td>0.0</td>\n",
       "      <td>0.0</td>\n",
       "      <td>0.0</td>\n",
       "      <td>0.0</td>\n",
       "    </tr>\n",
       "    <tr>\n",
       "      <th>1</th>\n",
       "      <td>0.0</td>\n",
       "      <td>0.0</td>\n",
       "      <td>0.0</td>\n",
       "      <td>0.0</td>\n",
       "      <td>0.0</td>\n",
       "      <td>0.0</td>\n",
       "      <td>0.0</td>\n",
       "      <td>0.0</td>\n",
       "      <td>0.0</td>\n",
       "      <td>0.0</td>\n",
       "      <td>...</td>\n",
       "      <td>0.0</td>\n",
       "      <td>0.0</td>\n",
       "      <td>0.0</td>\n",
       "      <td>0.0</td>\n",
       "      <td>0.0</td>\n",
       "      <td>0.0</td>\n",
       "      <td>0.0</td>\n",
       "      <td>0.0</td>\n",
       "      <td>0.0</td>\n",
       "      <td>0.0</td>\n",
       "    </tr>\n",
       "    <tr>\n",
       "      <th>2</th>\n",
       "      <td>1.0</td>\n",
       "      <td>0.0</td>\n",
       "      <td>0.0</td>\n",
       "      <td>0.0</td>\n",
       "      <td>0.0</td>\n",
       "      <td>0.0</td>\n",
       "      <td>0.0</td>\n",
       "      <td>0.0</td>\n",
       "      <td>0.0</td>\n",
       "      <td>0.0</td>\n",
       "      <td>...</td>\n",
       "      <td>0.0</td>\n",
       "      <td>0.0</td>\n",
       "      <td>0.0</td>\n",
       "      <td>0.0</td>\n",
       "      <td>0.0</td>\n",
       "      <td>0.0</td>\n",
       "      <td>0.0</td>\n",
       "      <td>0.0</td>\n",
       "      <td>0.0</td>\n",
       "      <td>0.0</td>\n",
       "    </tr>\n",
       "    <tr>\n",
       "      <th>3</th>\n",
       "      <td>4.0</td>\n",
       "      <td>0.0</td>\n",
       "      <td>0.0</td>\n",
       "      <td>0.0</td>\n",
       "      <td>0.0</td>\n",
       "      <td>0.0</td>\n",
       "      <td>0.0</td>\n",
       "      <td>0.0</td>\n",
       "      <td>0.0</td>\n",
       "      <td>0.0</td>\n",
       "      <td>...</td>\n",
       "      <td>0.0</td>\n",
       "      <td>0.0</td>\n",
       "      <td>0.0</td>\n",
       "      <td>0.0</td>\n",
       "      <td>0.0</td>\n",
       "      <td>0.0</td>\n",
       "      <td>0.0</td>\n",
       "      <td>0.0</td>\n",
       "      <td>0.0</td>\n",
       "      <td>0.0</td>\n",
       "    </tr>\n",
       "    <tr>\n",
       "      <th>4</th>\n",
       "      <td>0.0</td>\n",
       "      <td>0.0</td>\n",
       "      <td>0.0</td>\n",
       "      <td>0.0</td>\n",
       "      <td>0.0</td>\n",
       "      <td>0.0</td>\n",
       "      <td>0.0</td>\n",
       "      <td>0.0</td>\n",
       "      <td>0.0</td>\n",
       "      <td>0.0</td>\n",
       "      <td>...</td>\n",
       "      <td>0.0</td>\n",
       "      <td>0.0</td>\n",
       "      <td>0.0</td>\n",
       "      <td>0.0</td>\n",
       "      <td>0.0</td>\n",
       "      <td>0.0</td>\n",
       "      <td>0.0</td>\n",
       "      <td>0.0</td>\n",
       "      <td>0.0</td>\n",
       "      <td>0.0</td>\n",
       "    </tr>\n",
       "  </tbody>\n",
       "</table>\n",
       "<p>5 rows × 785 columns</p>\n",
       "</div>"
      ],
      "text/plain": [
       "   label  pixel0  pixel1  pixel2  pixel3  pixel4  pixel5  pixel6  pixel7  \\\n",
       "0    1.0     0.0     0.0     0.0     0.0     0.0     0.0     0.0     0.0   \n",
       "1    0.0     0.0     0.0     0.0     0.0     0.0     0.0     0.0     0.0   \n",
       "2    1.0     0.0     0.0     0.0     0.0     0.0     0.0     0.0     0.0   \n",
       "3    4.0     0.0     0.0     0.0     0.0     0.0     0.0     0.0     0.0   \n",
       "4    0.0     0.0     0.0     0.0     0.0     0.0     0.0     0.0     0.0   \n",
       "\n",
       "   pixel8    ...     pixel774  pixel775  pixel776  pixel777  pixel778  \\\n",
       "0     0.0    ...          0.0       0.0       0.0       0.0       0.0   \n",
       "1     0.0    ...          0.0       0.0       0.0       0.0       0.0   \n",
       "2     0.0    ...          0.0       0.0       0.0       0.0       0.0   \n",
       "3     0.0    ...          0.0       0.0       0.0       0.0       0.0   \n",
       "4     0.0    ...          0.0       0.0       0.0       0.0       0.0   \n",
       "\n",
       "   pixel779  pixel780  pixel781  pixel782  pixel783  \n",
       "0       0.0       0.0       0.0       0.0       0.0  \n",
       "1       0.0       0.0       0.0       0.0       0.0  \n",
       "2       0.0       0.0       0.0       0.0       0.0  \n",
       "3       0.0       0.0       0.0       0.0       0.0  \n",
       "4       0.0       0.0       0.0       0.0       0.0  \n",
       "\n",
       "[5 rows x 785 columns]"
      ]
     },
     "execution_count": 2,
     "metadata": {},
     "output_type": "execute_result"
    }
   ],
   "source": [
    "#load the data\n",
    "dataset = pd.read_csv('train.csv',dtype = np.float32)\n",
    "print dataset.shape\n",
    "dataset.head()"
   ]
  },
  {
   "cell_type": "code",
   "execution_count": 3,
   "metadata": {},
   "outputs": [
    {
     "name": "stdout",
     "output_type": "stream",
     "text": [
      "(42000, 784) (42000, 1)\n"
     ]
    }
   ],
   "source": [
    "data = dataset.iloc[:,1:].values\n",
    "labels = dataset.iloc[:,0].values.reshape(-1,1)\n",
    "print data.shape,labels.shape"
   ]
  },
  {
   "cell_type": "code",
   "execution_count": 4,
   "metadata": {},
   "outputs": [
    {
     "name": "stdout",
     "output_type": "stream",
     "text": [
      "[ 3.]\n",
      "[ 0.]\n",
      "[ 0.]\n",
      "[ 8.]\n",
      "[ 9.]\n"
     ]
    },
    {
     "data": {
      "image/png": "[encoded data removed]",
      "text/plain": [
       "<matplotlib.figure.Figure at 0x7fc81892bad0>"
      ]
     },
     "metadata": {},
     "output_type": "display_data"
    },
    {
     "data": {
      "image/png": "[encoded data removed]",
      "text/plain": [
       "<matplotlib.figure.Figure at 0x7fc8189fda10>"
      ]
     },
     "metadata": {},
     "output_type": "display_data"
    },
    {
     "data": {
      "image/png": "[encoded data removed]",
      "text/plain": [
       "<matplotlib.figure.Figure at 0x7fc819151ad0>"
      ]
     },
     "metadata": {},
     "output_type": "display_data"
    },
    {
     "data": {
      "image/png": "[encoded data removed]",
      "text/plain": [
       "<matplotlib.figure.Figure at 0x7fc819115dd0>"
      ]
     },
     "metadata": {},
     "output_type": "display_data"
    },
    {
     "data": {
      "image/png": "[encoded data removed]",
      "text/plain": [
       "<matplotlib.figure.Figure at 0x7fc8190ee650>"
      ]
     },
     "metadata": {},
     "output_type": "display_data"
    }
   ],
   "source": [
    "pixel_size = 28\n",
    "#visualizing random samples from data\n",
    "for i in np.random.randint(0,dataset.shape[0],5):\n",
    "    temp = data[i,:].reshape(pixel_size,pixel_size)\n",
    "    plt.figure()\n",
    "    plt.imshow(temp)\n",
    "    print labels[i,:]"
   ]
  },
  {
   "cell_type": "code",
   "execution_count": 5,
   "metadata": {},
   "outputs": [
    {
     "name": "stdout",
     "output_type": "stream",
     "text": [
      "(42000, 784) (42000, 10)\n"
     ]
    }
   ],
   "source": [
    "from sklearn.preprocessing import StandardScaler,OneHotEncoder\n",
    "scaler_x = StandardScaler()\n",
    "data = scaler_x.fit_transform(data)\n",
    "\n",
    "ohc  = OneHotEncoder()\n",
    "labels = ohc.fit_transform(labels).toarray()\n",
    "print data.shape,labels.shape"
   ]
  },
  {
   "cell_type": "code",
   "execution_count": 6,
   "metadata": {},
   "outputs": [
    {
     "name": "stdout",
     "output_type": "stream",
     "text": [
      "Training :  (37800, 784) (37800, 10)\n",
      "Testing :  (4200, 784) (4200, 10)\n"
     ]
    }
   ],
   "source": [
    "#splitting the data in train and test sets\n",
    "def split(data,labels,test_size = 0.1):\n",
    "    n = labels.shape[0]\n",
    "    perm = np.random.permutation(n)\n",
    "    data = data[perm,:]\n",
    "    labels = labels[perm,:]\n",
    "    train_x,test_x = data[:-int(test_size*n),:],data[-int(test_size*n):,:]\n",
    "    train_y,test_y = labels[:-int(test_size*n),:],labels[-int(test_size*n):,:]\n",
    "    return train_x,test_x,train_y,test_y\n",
    "\n",
    "train_x,test_x,train_y,test_y = split(data,labels)\n",
    "print \"Training : \",train_x.shape,train_y.shape\n",
    "print \"Testing : \",test_x.shape,test_y.shape"
   ]
  },
  {
   "cell_type": "code",
   "execution_count": 7,
   "metadata": {},
   "outputs": [],
   "source": [
    "def relu(x):\n",
    "    return np.maximum(x,0)\n",
    "\n",
    "def softmax(x):\n",
    "    return np.exp(-x)/(np.sum(np.exp(-x),axis=1,keepdims=True))\n",
    "\n",
    "def relu_grad(x):\n",
    "    temp = np.zeros(x.shape)\n",
    "    temp[x > 0] = 1\n",
    "    return temp\n",
    "\n",
    "def forward_prop(data,w1,b1,w2,b2):\n",
    "\n",
    "    z1 = np.dot(data,w1) + b1\n",
    "    a1 = relu(z1)\n",
    "    #print 'a1',a1[:10,:10]\n",
    "    z2 = np.dot(a1,w2) + b2\n",
    "    a2 = softmax(z2)\n",
    "    #print 'a2 : ',a2[:10,:]\n",
    "    return a2,z2,a1,z1\n",
    "\n",
    "def compute_loss(data,labels,weights,reg_param):\n",
    "    w1,b1,w2,b2 = weights[0],weights[1],weights[2],weights[3]\n",
    "    a2,z2,a1,z1 = forward_prop(data,w1,b1,w2,b2)\n",
    "    l = -np.sum(np.sum(labels*np.log(a2)))/labels.shape[0]\n",
    "    l += (reg_param/2.0)*(np.sum(np.sum(w1**2)) + np.sum(np.sum(w2**2)))/labels.shape[0]\n",
    "    return l,[z1,a1,z2,a2]\n",
    "\n",
    "def compute_gradients(x,y,logits,weights,reg_param):\n",
    "    z1,a1,z2,a2 = logits[0],logits[1],logits[2],logits[3]\n",
    "    w1,b1,w2,b2 = weights[0],weights[1],weights[2],weights[3]\n",
    "    \n",
    "    de = (y-a2)/y.shape[0]\n",
    "    dw2 = np.dot(a1.T,de) + reg_param*w2/y.shape[0]\n",
    "    db2 = np.sum(de,axis=0,keepdims=True)\n",
    "    \n",
    "    de = np.dot(de,w2.T)*relu_grad(z1)\n",
    "    dw1 = np.dot(x.T,de) + reg_param*w1/y.shape[0]\n",
    "    db1 = np.sum(de,axis=0,keepdims=True)\n",
    "#     print 'w1',dw1[:10,:10]\n",
    "#     print 'b1',db1[:,:10]\n",
    "#     print 'w2',dw2[:10,:10]\n",
    "#     print 'b2',db2[:,:10]\n",
    "    return [dw1,db1,dw2,db2]\n",
    "\n",
    "def update_weights(weights,grads,learning_rate):\n",
    "    w1,b1,w2,b2 = weights[0],weights[1],weights[2],weights[3]\n",
    "    dw1,db1,dw2,db2 = grads[0],grads[1],grads[2],grads[3]\n",
    "    \n",
    "    w1 -= learning_rate*dw1\n",
    "    b1 -= learning_rate*db1\n",
    "    w2 -= learning_rate*dw2\n",
    "    b2 -= learning_rate*db2\n",
    "    \n",
    "    return w1,b1,w2,b2\n",
    "\n",
    "\n",
    "def update_weights_rmsprop_with_momentum(weights,grads,learning_rate,caches\n",
    "                                         ,velocity,e=1e-8,decay=0.99,mu = 0.9):\n",
    "    w1,b1,w2,b2 = weights[0],weights[1],weights[2],weights[3]\n",
    "    dw1,db1,dw2,db2 = grads[0],grads[1],grads[2],grads[3]\n",
    "    vw1,vb1,vw2,vb2 = velocity[0],velocity[1],velocity[2],velocity[3]\n",
    "    cw1,cb1,cw2,cb2 = caches[0],caches[1],caches[2],caches[3]\n",
    "    \n",
    "    vw1 = mu*vw1 + (1-mu)*learning_rate*dw1\n",
    "    vb1 = mu*vb1 + (1-mu)*learning_rate*db1\n",
    "    vw2 = mu*vw2 + (1-mu)*learning_rate*dw2\n",
    "    vb2 = mu*vb2 + (1-mu)*learning_rate*db2\n",
    "    \n",
    "    cw1 = decay*cw1 + (1-decay)*(dw1**2)\n",
    "    cb1 = decay*cb1 + (1-decay)*(db1**2)\n",
    "    cw2 = decay*cw2 + (1-decay)*(dw2**2)\n",
    "    cb2 = decay*cb2 + (1-decay)*(db2**2)\n",
    "    \n",
    "    w1 -= vw1/np.sqrt(cw1 + e)\n",
    "    b1 -= vb1/np.sqrt(cb1 + e)\n",
    "    w2 -= vw2/np.sqrt(cw2 + e)\n",
    "    b2 -= vb2/np.sqrt(cb2 + e)\n",
    "    \n",
    "    weights = [w1,b1,w2,b2]\n",
    "    velocity = [vw1,vb1,vw2,vb2]\n",
    "    caches = [cw1,cb1,cw2,cb2]\n",
    "    return weights,velocity,caches\n",
    "\n",
    "def update_weights_adam(weights,grads,lr,caches,velocity,step,e=1e-8,beta1=0.9,beta2=0.99):\n",
    "    w1,b1,w2,b2 = weights[0],weights[1],weights[2],weights[3]\n",
    "    dw1,db1,dw2,db2 = grads[0],grads[1],grads[2],grads[3]\n",
    "    vw1,vb1,vw2,vb2 = velocity[0],velocity[1],velocity[2],velocity[3]\n",
    "    cw1,cb1,cw2,cb2 = caches[0],caches[1],caches[2],caches[3]\n",
    "    \n",
    "    vw1 = beta1*vw1 + (1-beta1)*dw1\n",
    "    vb1 = beta1*vb1 + (1-beta1)*db1\n",
    "    vw2 = beta1*vw2 + (1-beta1)*dw2\n",
    "    vb2 = beta1*vb2 + (1-beta1)*db2\n",
    "    \n",
    "    cw1 = beta2*cw1 + (1-beta2)*(dw1**2)\n",
    "    cb1 = beta2*cb1 + (1-beta2)*(db1**2)\n",
    "    cw2 = beta2*cw2 + (1-beta2)*(dw2**2)\n",
    "    cb2 = beta2*cb2 + (1-beta2)*(db2**2)\n",
    "    \n",
    "    #error correction\n",
    "    correct1 = 1.0 - beta1**(step+1.0)\n",
    "    #print correct1\n",
    "    vw1_hat = vw1/correct1\n",
    "    vb1_hat = vb1/correct1\n",
    "    vw2_hat = vw2/correct1\n",
    "    vb2_hat = vb2/correct1\n",
    "    \n",
    "    correct2 = 1.0 - beta2**(step+1.0)\n",
    "    #print correct2\n",
    "    cw1_hat = cw1/correct2\n",
    "    cb1_hat = cb1/correct2\n",
    "    cw2_hat = cw2/correct2\n",
    "    cb2_hat = cb2/correct2\n",
    "    \n",
    "    w1 -= lr*vw1_hat/np.sqrt(cw1_hat + e)\n",
    "    b1 -= lr*vb1_hat/np.sqrt(cb1_hat + e)\n",
    "    w2 -= lr*vw2_hat/np.sqrt(cw2_hat + e)\n",
    "    b2 -= lr*vb2_hat/np.sqrt(cb2_hat + e)\n",
    "    \n",
    "    weights = [w1,b1,w2,b2]\n",
    "    velocity = [vw1,vb1,vw2,vb2]\n",
    "    caches = [cw1,cb1,cw2,cb2]\n",
    "    return weights,velocity,caches \n",
    "\n",
    "def compute_accuracy(data,labels,weights):\n",
    "    w1,b1,w2,b2 = weights[0],weights[1],weights[2],weights[3]\n",
    "    predictions,_,_,_ = forward_prop(data,w1,b1,w2,b2)\n",
    "    val = np.sum(np.argmax(labels,axis=1) == np.argmax(predictions,axis=1))/labels.shape[0]\n",
    "    return val"
   ]
  },
  {
   "cell_type": "code",
   "execution_count": 8,
   "metadata": {},
   "outputs": [],
   "source": [
    "##default hyperparameters\n",
    "def_lr = 0.001\n",
    "def_n_iter = 1001\n",
    "def_batch_size = 256\n",
    "def_reg_param = 0.2"
   ]
  },
  {
   "cell_type": "code",
   "execution_count": 9,
   "metadata": {},
   "outputs": [
    {
     "name": "stdout",
     "output_type": "stream",
     "text": [
      "Training loss at step 0 is 2.55\n",
      "Test accuracy at step 0 is 9.02%\n",
      "\n",
      "\n",
      "Training loss at step 100 is 2.17\n",
      "Test accuracy at step 100 is 34.07%\n",
      "\n",
      "\n",
      "Training loss at step 200 is 1.70\n",
      "Test accuracy at step 200 is 61.24%\n",
      "\n",
      "\n",
      "Training loss at step 300 is 1.29\n",
      "Test accuracy at step 300 is 74.12%\n",
      "\n",
      "\n",
      "Training loss at step 400 is 1.02\n",
      "Test accuracy at step 400 is 80.88%\n",
      "\n",
      "\n",
      "Training loss at step 500 is 0.65\n",
      "Test accuracy at step 500 is 85.29%\n",
      "\n",
      "\n",
      "Training loss at step 600 is 0.52\n",
      "Test accuracy at step 600 is 88.10%\n",
      "\n",
      "\n",
      "Training loss at step 700 is 0.52\n",
      "Test accuracy at step 700 is 89.76%\n",
      "\n",
      "\n",
      "Training loss at step 800 is 0.37\n",
      "Test accuracy at step 800 is 91.14%\n",
      "\n",
      "\n",
      "Training loss at step 900 is 0.34\n",
      "Test accuracy at step 900 is 92.36%\n",
      "\n",
      "\n",
      "Training loss at step 1000 is 0.33\n",
      "Test accuracy at step 1000 is 93.48%\n",
      "\n",
      "\n"
     ]
    },
    {
     "data": {
      "text/plain": [
       "<matplotlib.legend.Legend at 0x7fc7f0c7cfd0>"
      ]
     },
     "execution_count": 9,
     "metadata": {},
     "output_type": "execute_result"
    },
    {
     "data": {
      "image/png": "[encoded data removed]",
      "text/plain": [
       "<matplotlib.figure.Figure at 0x7fc800c79fd0>"
      ]
     },
     "metadata": {},
     "output_type": "display_data"
    },
    {
     "data": {
      "image/png": "[encoded data removed]",
      "text/plain": [
       "<matplotlib.figure.Figure at 0x7fc7f1099d90>"
      ]
     },
     "metadata": {},
     "output_type": "display_data"
    }
   ],
   "source": [
    "#hyperparamters\n",
    "n,m = train_x.shape\n",
    "learning_rate = def_lr\n",
    "reg_param = def_reg_param\n",
    "nh1 = 300\n",
    "p = train_y.shape[1]\n",
    "n_iter = def_n_iter\n",
    "batch_size = def_batch_size\n",
    "print_period = 100\n",
    "\n",
    "#weights \n",
    "w1 = np.random.randn(m,nh1)/28\n",
    "b1 = np.zeros((1,nh1))\n",
    "w2 = np.random.randn(nh1,p)/np.sqrt(nh1)\n",
    "b2 = np.zeros((1,p))\n",
    "weights = [w1,b1,w2,b2]\n",
    "\n",
    "#caches for rmsprop model\n",
    "cw1 = 1\n",
    "cb1 = 1\n",
    "cw2 = 1\n",
    "cb2 = 1\n",
    "caches = [cw1,cb1,cw2,cb2]\n",
    "\n",
    "#velocities of momentum model\n",
    "vw1 = np.zeros(w1.shape)\n",
    "vb1 = np.zeros(b1.shape)\n",
    "vw2 = np.zeros(w2.shape)\n",
    "vb2 = np.zeros(b2.shape)\n",
    "velocity = [vw1,vb1,vw2,vb2]\n",
    "\n",
    "#training the model\n",
    "train_loss_1 = []\n",
    "test_errs = []\n",
    "train_errs = []\n",
    "\n",
    "for step in range(n_iter):\n",
    "    k = (step*batch_size) % (n - batch_size)\n",
    "    batch_x = train_x[k:(k+batch_size)]\n",
    "    batch_y = train_y[k:(k+batch_size)]\n",
    "    \n",
    "    l,logits = compute_loss(batch_x,batch_y,weights,reg_param)\n",
    "    grads = compute_gradients(batch_x,batch_y,logits,weights,reg_param)\n",
    "    weights,velocity,caches = update_weights_rmsprop_with_momentum(weights,grads,learning_rate,caches,velocity)\n",
    "\n",
    "    \n",
    "    \n",
    "    if step%print_period ==0:\n",
    "        train_loss_1.append(l)\n",
    "        print \"Training loss at step %d is %.2f\" %(step,l)\n",
    "        train_err =1.0 - compute_accuracy(batch_x,batch_y,weights)\n",
    "        test_err =1.0 - compute_accuracy(test_x,test_y,weights)\n",
    "        #print \"Train accuracy at step %d is %.2f%%\"  %(step,100.0*train_acc)\n",
    "        print \"Test accuracy at step %d is %.2f%%\" %(step,100.0*(1.0-test_err))\n",
    "        print '\\n'\n",
    "        train_errs.append(train_err)\n",
    "        test_errs.append(test_err)\n",
    "        #update the value of learning rate\n",
    "        \n",
    "\n",
    "plt.plot(np.arange(0,n_iter,100),train_loss_1,label = 'Training loss')\n",
    "plt.xlabel('Number of iterations')\n",
    "plt.ylabel('Loss')\n",
    "plt.legend()\n",
    "\n",
    "plt.figure()\n",
    "plt.plot(np.arange(0,n_iter,100),train_errs,label = 'Training')\n",
    "plt.plot(np.arange(0,n_iter,100),test_errs,label = 'Test')\n",
    "plt.ylim(0,1)\n",
    "plt.xlabel('Number of iterations')\n",
    "plt.ylabel('Error rate')\n",
    "plt.legend()"
   ]
  },
  {
   "cell_type": "code",
   "execution_count": 10,
   "metadata": {},
   "outputs": [
    {
     "name": "stdout",
     "output_type": "stream",
     "text": [
      "Training loss at step 0 is 2.61\n",
      "Test accuracy at step 0 is 8.52%\n",
      "\n",
      "\n",
      "Training loss at step 100 is 2.33\n",
      "Test accuracy at step 100 is 22.90%\n",
      "\n",
      "\n",
      "Training loss at step 200 is 1.82\n",
      "Test accuracy at step 200 is 51.98%\n",
      "\n",
      "\n",
      "Training loss at step 300 is 1.35\n",
      "Test accuracy at step 300 is 71.67%\n",
      "\n",
      "\n",
      "Training loss at step 400 is 1.09\n",
      "Test accuracy at step 400 is 79.79%\n",
      "\n",
      "\n",
      "Training loss at step 500 is 0.68\n",
      "Test accuracy at step 500 is 84.74%\n",
      "\n",
      "\n",
      "Training loss at step 600 is 0.53\n",
      "Test accuracy at step 600 is 87.76%\n",
      "\n",
      "\n",
      "Training loss at step 700 is 0.54\n",
      "Test accuracy at step 700 is 89.45%\n",
      "\n",
      "\n",
      "Training loss at step 800 is 0.38\n",
      "Test accuracy at step 800 is 90.83%\n",
      "\n",
      "\n",
      "Training loss at step 900 is 0.32\n",
      "Test accuracy at step 900 is 92.26%\n",
      "\n",
      "\n",
      "Training loss at step 1000 is 0.33\n",
      "Test accuracy at step 1000 is 93.17%\n",
      "\n",
      "\n"
     ]
    },
    {
     "data": {
      "text/plain": [
       "<matplotlib.legend.Legend at 0x7fc818f7bf10>"
      ]
     },
     "execution_count": 10,
     "metadata": {},
     "output_type": "execute_result"
    },
    {
     "data": {
      "image/png": "[encoded data removed]",
      "text/plain": [
       "<matplotlib.figure.Figure at 0x7fc84abd0c50>"
      ]
     },
     "metadata": {},
     "output_type": "display_data"
    },
    {
     "data": {
      "image/png": "[encoded data removed]",
      "text/plain": [
       "<matplotlib.figure.Figure at 0x7fc7f10e95d0>"
      ]
     },
     "metadata": {},
     "output_type": "display_data"
    }
   ],
   "source": [
    "#Adam optimization\n",
    "\n",
    "#hyperparamters\n",
    "n,m = train_x.shape\n",
    "learning_rate = def_lr\n",
    "reg_param = def_reg_param\n",
    "nh1 = 300\n",
    "p = train_y.shape[1]\n",
    "n_iter = def_n_iter\n",
    "batch_size = def_batch_size\n",
    "print_period = 100\n",
    "\n",
    "#weights \n",
    "w1 = np.random.randn(m,nh1)/28\n",
    "b1 = np.zeros((1,nh1))\n",
    "w2 = np.random.randn(nh1,p)/np.sqrt(nh1)\n",
    "b2 = np.zeros((1,p))\n",
    "weights = [w1,b1,w2,b2]\n",
    "\n",
    "#caches for rmsprop model\n",
    "cw1 = 1\n",
    "cb1 = 1\n",
    "cw2 = 1\n",
    "cb2 = 1\n",
    "caches = [cw1,cb1,cw2,cb2]\n",
    "\n",
    "#velocities of momentum model\n",
    "vw1 = np.zeros(w1.shape)\n",
    "vb1 = np.zeros(b1.shape)\n",
    "vw2 = np.zeros(w2.shape)\n",
    "vb2 = np.zeros(b2.shape)\n",
    "velocity = [vw1,vb1,vw2,vb2]\n",
    "\n",
    "#training the model\n",
    "train_loss_adam = []\n",
    "test_errs = []\n",
    "train_errs = []\n",
    "\n",
    "for step in range(n_iter):\n",
    "    k = (step*batch_size) % (n - batch_size)\n",
    "    batch_x = train_x[k:(k+batch_size)]\n",
    "    batch_y = train_y[k:(k+batch_size)]\n",
    "    \n",
    "    l,logits = compute_loss(batch_x,batch_y,weights,reg_param)\n",
    "    grads = compute_gradients(batch_x,batch_y,logits,weights,reg_param)\n",
    "    weights,velocity,caches = update_weights_adam(weights,grads,learning_rate,caches,velocity,step)\n",
    "    \n",
    "    \n",
    "    if step%print_period ==0:\n",
    "        train_loss_adam.append(l)\n",
    "        print \"Training loss at step %d is %.2f\" %(step,l)\n",
    "        train_err =1.0 - compute_accuracy(batch_x,batch_y,weights)\n",
    "        test_err =1.0 - compute_accuracy(test_x,test_y,weights)\n",
    "        #print \"Train accuracy at step %d is %.2f%%\"  %(step,100.0*train_acc)\n",
    "        print \"Test accuracy at step %d is %.2f%%\" %(step,100.0*(1.0-test_err))\n",
    "        print '\\n'\n",
    "        train_errs.append(train_err)\n",
    "        test_errs.append(test_err)\n",
    "        #update the value of learning rate\n",
    "        \n",
    "\n",
    "plt.plot(np.arange(0,n_iter,100),train_loss_adam,label = 'Training loss')\n",
    "plt.xlabel('Number of iterations')\n",
    "plt.ylabel('Loss')\n",
    "plt.legend()\n",
    "\n",
    "plt.figure()\n",
    "plt.plot(np.arange(0,n_iter,100),train_errs,label = 'Training')\n",
    "plt.plot(np.arange(0,n_iter,100),test_errs,label = 'Test')\n",
    "plt.ylim(0,1)\n",
    "plt.xlabel('Number of iterations')\n",
    "plt.ylabel('Error rate')\n",
    "plt.legend()"
   ]
  },
  {
   "cell_type": "code",
   "execution_count": 11,
   "metadata": {},
   "outputs": [
    {
     "data": {
      "text/plain": [
       "Text(1,0.4,u'Learning rate : 0.0010')"
      ]
     },
     "execution_count": 11,
     "metadata": {},
     "output_type": "execute_result"
    },
    {
     "data": {
      "image/png": "[encoded data removed]",
      "text/plain": [
       "<matplotlib.figure.Figure at 0x7fc818f7bb10>"
      ]
     },
     "metadata": {},
     "output_type": "display_data"
    }
   ],
   "source": [
    "plt.figure()\n",
    "plt.plot(np.arange(0,def_n_iter,print_period),train_loss_1,label='Training loss RMSprop with momentum')\n",
    "plt.plot(np.arange(0,def_n_iter,print_period),train_loss_adam,label = 'Training loss with adam')\n",
    "plt.xlabel('Number of iterations')\n",
    "plt.ylabel('Loss')\n",
    "plt.legend(loc = 'center left',bbox_to_anchor = (1.0,0.5))\n",
    "sr = 'Learning rate : {:.4f}'.format(def_lr)\n",
    "plt.gcf().text(1.0,0.4,sr,style = 'italic',color = 'green',fontsize=12)"
   ]
  },
  {
   "cell_type": "code",
   "execution_count": null,
   "metadata": {},
   "outputs": [],
   "source": []
  }
 ],
 "metadata": {
  "kernelspec": {
   "display_name": "Python 2",
   "language": "python",
   "name": "python2"
  },
  "language_info": {
   "codemirror_mode": {
    "name": "ipython",
    "version": 2
   },
   "file_extension": ".py",
   "mimetype": "text/x-python",
   "name": "python",
   "nbconvert_exporter": "python",
   "pygments_lexer": "ipython2",
   "version": "2.7.14"
  }
 },
 "nbformat": 4,
 "nbformat_minor": 2
}
