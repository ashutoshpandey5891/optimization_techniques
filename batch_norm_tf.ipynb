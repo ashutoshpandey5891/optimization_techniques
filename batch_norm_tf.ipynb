{
 "cells": [
  {
   "cell_type": "code",
   "execution_count": 1,
   "metadata": {},
   "outputs": [],
   "source": [
    "from __future__ import division\n",
    "import numpy as np\n",
    "import pandas as pd\n",
    "import matplotlib.pyplot as plt\n",
    "\n",
    "import tensorflow as tf\n",
    "from util import *\n",
    "from sklearn.utils import shuffle\n",
    "from batch_normal_tf import ANN\n",
    "\n",
    "%matplotlib inline\n",
    "%load_ext autoreload\n",
    "%autoreload 2"
   ]
  },
  {
   "cell_type": "code",
   "execution_count": 2,
   "metadata": {},
   "outputs": [
    {
     "name": "stdout",
     "output_type": "stream",
     "text": [
      "(42000, 784) (42000, 10)\n"
     ]
    }
   ],
   "source": [
    "X,Y = get_normalized_data()\n",
    "print X.shape,Y.shape"
   ]
  },
  {
   "cell_type": "code",
   "execution_count": 3,
   "metadata": {},
   "outputs": [],
   "source": [
    "hidden_layer_sizes = [500,200]\n",
    "keep_probs = [0.8,0.5,0.5]\n",
    "ann = ANN(hidden_layer_sizes,keep_probs)"
   ]
  },
  {
   "cell_type": "code",
   "execution_count": 4,
   "metadata": {},
   "outputs": [
    {
     "name": "stdout",
     "output_type": "stream",
     "text": [
      "Epoch : 0,Batch : 0,train loss : 2.3667,valid loss : 11.5240,valid err: 0.8840\n",
      "Epoch : 0,Batch : 50,train loss : 2.2300,valid loss : 2.2255,valid err: 0.8010\n",
      "Epoch : 0,Batch : 100,train loss : 2.3464,valid loss : 2.2149,valid err: 0.8050\n",
      "Epoch : 0,Batch : 150,train loss : 2.2810,valid loss : 2.1971,valid err: 0.7890\n",
      "Epoch : 0,Batch : 200,train loss : 2.1126,valid loss : 2.0705,valid err: 0.7400\n",
      "Epoch : 1,Batch : 0,train loss : 2.0355,valid loss : 2.0369,valid err: 0.6990\n",
      "Epoch : 1,Batch : 50,train loss : 1.5778,valid loss : 1.5787,valid err: 0.4640\n",
      "Epoch : 1,Batch : 100,train loss : 1.1793,valid loss : 1.2009,valid err: 0.3460\n",
      "Epoch : 1,Batch : 150,train loss : 0.8684,valid loss : 0.7121,valid err: 0.1580\n",
      "Epoch : 1,Batch : 200,train loss : 0.5094,valid loss : 0.3596,valid err: 0.0980\n",
      "Epoch : 2,Batch : 0,train loss : 0.5625,valid loss : 0.3472,valid err: 0.0950\n",
      "Epoch : 2,Batch : 50,train loss : 0.4495,valid loss : 0.2512,valid err: 0.0770\n",
      "Epoch : 2,Batch : 100,train loss : 0.3498,valid loss : 0.2216,valid err: 0.0690\n",
      "Epoch : 2,Batch : 150,train loss : 0.3245,valid loss : 0.1923,valid err: 0.0600\n",
      "Epoch : 2,Batch : 200,train loss : 0.3458,valid loss : 0.1740,valid err: 0.0560\n",
      "Epoch : 3,Batch : 0,train loss : 0.2888,valid loss : 0.1731,valid err: 0.0540\n",
      "Epoch : 3,Batch : 50,train loss : 0.2869,valid loss : 0.1567,valid err: 0.0460\n",
      "Epoch : 3,Batch : 100,train loss : 0.3126,valid loss : 0.1427,valid err: 0.0420\n",
      "Epoch : 3,Batch : 150,train loss : 0.2672,valid loss : 0.1330,valid err: 0.0400\n",
      "Epoch : 3,Batch : 200,train loss : 0.2843,valid loss : 0.1260,valid err: 0.0380\n",
      "Epoch : 4,Batch : 0,train loss : 0.2352,valid loss : 0.1247,valid err: 0.0420\n",
      "Epoch : 4,Batch : 50,train loss : 0.1988,valid loss : 0.1215,valid err: 0.0410\n",
      "Epoch : 4,Batch : 100,train loss : 0.2011,valid loss : 0.1150,valid err: 0.0400\n",
      "Epoch : 4,Batch : 150,train loss : 0.2628,valid loss : 0.1123,valid err: 0.0420\n",
      "Epoch : 4,Batch : 200,train loss : 0.2162,valid loss : 0.1104,valid err: 0.0350\n"
     ]
    },
    {
     "data": {
      "image/png": "[encoded data removed]",
      "text/plain": [
       "<matplotlib.figure.Figure at 0x7fbe3faa4150>"
      ]
     },
     "metadata": {},
     "output_type": "display_data"
    }
   ],
   "source": [
    "ann.fit(X,Y,batch_size = 200,epochs = 5,lr = 0.0001,decay=0.9,mu=0.9,print_period=50)"
   ]
  },
  {
   "cell_type": "code",
   "execution_count": null,
   "metadata": {},
   "outputs": [],
   "source": []
  }
 ],
 "metadata": {
  "kernelspec": {
   "display_name": "Python 2",
   "language": "python",
   "name": "python2"
  },
  "language_info": {
   "codemirror_mode": {
    "name": "ipython",
    "version": 2
   },
   "file_extension": ".py",
   "mimetype": "text/x-python",
   "name": "python",
   "nbconvert_exporter": "python",
   "pygments_lexer": "ipython2",
   "version": "2.7.14"
  }
 },
 "nbformat": 4,
 "nbformat_minor": 2
}
